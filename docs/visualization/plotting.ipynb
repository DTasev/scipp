{
 "cells": [
  {
   "cell_type": "markdown",
   "metadata": {},
   "source": [
    "# Plotting\n",
    "`scipp` offers a number of different ways to plot data from a `DataArray` or a `Dataset`. It uses the `matplotlib` graphing library to do so, as well as the `ipyvolume` project for 3D visualizations."
   ]
  },
  {
   "cell_type": "code",
   "execution_count": null,
   "metadata": {},
   "outputs": [],
   "source": [
    "import numpy as np\n",
    "import scipp as sc\n",
    "from scipp import Dim\n",
    "from scipp.plot import plot"
   ]
  },
  {
   "cell_type": "markdown",
   "metadata": {},
   "source": [
    "## Plotting 1-D data\n",
    "\n",
    "### 1-D line plot\n",
    "\n",
    "Plotting is done using the `plot` (or `scipp.plot.plot`) function.\n",
    "Generally the information in a dataset is sufficient to produce a useful plot out of the box.\n",
    "\n",
    "For example, a simple line plot is produced as follows:"
   ]
  },
  {
   "cell_type": "code",
   "execution_count": null,
   "metadata": {},
   "outputs": [],
   "source": [
    "d = sc.Dataset()\n",
    "N = 50\n",
    "d.coords[Dim.Tof] = sc.Variable([Dim.Tof], values=np.arange(N).astype(np.float64),\n",
    "                                unit=sc.units.us)\n",
    "d['Sample'] = sc.Variable([Dim.Tof], values=10.0*np.random.rand(N),\n",
    "                          unit=sc.units.counts)\n",
    "plot(d)"
   ]
  },
  {
   "cell_type": "markdown",
   "metadata": {},
   "source": [
    "### 1D line plot with error bars\n",
    "\n",
    "Error bars are shown automatically if variances are present in the data:"
   ]
  },
  {
   "cell_type": "code",
   "execution_count": null,
   "metadata": {},
   "outputs": [],
   "source": [
    "d['Sample'].variances = np.square(np.random.rand(N))\n",
    "plot(d)"
   ]
  },
  {
   "cell_type": "markdown",
   "metadata": {},
   "source": [
    "Note that the length of the errors bars is the standard-deviation, i.e., the square root of the variances stored in the data.\n",
    "\n",
    "### Multiple lines on the same axes\n",
    "\n",
    "If a dataset contains more than one 1D variable with the same coordinates, they are plotted on the same axes:"
   ]
  },
  {
   "cell_type": "code",
   "execution_count": null,
   "metadata": {},
   "outputs": [],
   "source": [
    "d['Background'] = sc.Variable([Dim.Tof], values=5.0*np.random.rand(N),\n",
    "                              unit=sc.units.counts)\n",
    "plot(d)"
   ]
  },
  {
   "cell_type": "markdown",
   "metadata": {},
   "source": [
    "We can always plot just a single item of the dataset:"
   ]
  },
  {
   "cell_type": "code",
   "execution_count": null,
   "metadata": {},
   "outputs": [],
   "source": [
    "plot(d['Background'])"
   ]
  },
  {
   "cell_type": "markdown",
   "metadata": {},
   "source": [
    "### Choosing the line colors\n",
    "\n",
    "Line colors can be changed via the `color` keyword argument:"
   ]
  },
  {
   "cell_type": "code",
   "execution_count": null,
   "metadata": {},
   "outputs": [],
   "source": [
    "plot(d, color=['red', '#30D5F9'])"
   ]
  },
  {
   "cell_type": "markdown",
   "metadata": {},
   "source": [
    "The supplied `color` argument can also be a list of integers, which correspond to one of the 10 pre-defined colors (which were taken from [matplotlib](https://matplotlib.org/3.1.1/users/dflt_style_changes.html)):"
   ]
  },
  {
   "cell_type": "code",
   "execution_count": null,
   "metadata": {},
   "outputs": [],
   "source": [
    "plot(d, color=[6, 8])"
   ]
  },
  {
   "cell_type": "markdown",
   "metadata": {},
   "source": [
    "### Logarithmic scales\n",
    "\n",
    "Logarithmic axes are supported as follows:"
   ]
  },
  {
   "cell_type": "code",
   "execution_count": null,
   "metadata": {
    "scrolled": false
   },
   "outputs": [],
   "source": [
    "plot(d, logx=True)\n",
    "plot(d, logy=True)\n",
    "plot(d, logxy=True)"
   ]
  },
  {
   "cell_type": "markdown",
   "metadata": {},
   "source": [
    "### Histograms\n",
    "Histograms are automatically generated if the coordinate is bin edges:"
   ]
  },
  {
   "cell_type": "code",
   "execution_count": null,
   "metadata": {},
   "outputs": [],
   "source": [
    "d['Histogram'] = sc.Variable([Dim.Tof], values=20.0*np.random.rand(N-1),\n",
    "                             unit=sc.units.counts)\n",
    "plot(d['Histogram'])"
   ]
  },
  {
   "cell_type": "markdown",
   "metadata": {},
   "source": [
    "and with error bars"
   ]
  },
  {
   "cell_type": "code",
   "execution_count": null,
   "metadata": {},
   "outputs": [],
   "source": [
    "d['Histogram'].variances = 5.0*np.random.rand(N-1)\n",
    "plot(d['Histogram'])"
   ]
  },
  {
   "cell_type": "markdown",
   "metadata": {},
   "source": [
    "The histogram color can be customized:"
   ]
  },
  {
   "cell_type": "code",
   "execution_count": null,
   "metadata": {},
   "outputs": [],
   "source": [
    "plot(d['Histogram'], color=\"#000000\")"
   ]
  },
  {
   "cell_type": "markdown",
   "metadata": {},
   "source": [
    "### Multiple 1D variables with different dimensions\n",
    "\n",
    "`scipp.plot` also supports multiple 1-D variables with different dimensions (note that the data entries are grouped onto the same graph if they have the same dimension and unit):"
   ]
  },
  {
   "cell_type": "code",
   "execution_count": null,
   "metadata": {
    "scrolled": false
   },
   "outputs": [],
   "source": [
    "M = 60\n",
    "d.coords[Dim.X] = sc.Variable([Dim.X],\n",
    "                              values=np.arange(M).astype(np.float64),\n",
    "                              unit=sc.units.m)\n",
    "d['OtherSample'] = sc.Variable([Dim.X], values=10.0*np.random.rand(M),\n",
    "                                   unit=sc.units.s)\n",
    "d['OtherNoise'] = sc.Variable([Dim.X], values=7.0*np.random.rand(M-1),\n",
    "                                  variances=3.0*np.random.rand(M-1),\n",
    "                                  unit=sc.units.s)\n",
    "d['SomeKgs'] = sc.Variable([Dim.X], values=20.0*np.random.rand(M),\n",
    "                                   unit=sc.units.kg)\n",
    "plot(d)"
   ]
  },
  {
   "cell_type": "markdown",
   "metadata": {},
   "source": [
    "### Custom labels along x axis\n",
    "\n",
    "Sometimes one wishes to have `labels` along the X axis instead of the coordinate. This can be achieved via the `axes` keyword argument:"
   ]
  },
  {
   "cell_type": "code",
   "execution_count": null,
   "metadata": {},
   "outputs": [],
   "source": [
    "d1 = sc.Dataset()\n",
    "N = 100\n",
    "d1.coords[Dim.Tof] = sc.Variable([Dim.Tof],\n",
    "                                 values=np.arange(N).astype(np.float64),\n",
    "                                 unit=sc.units.us)\n",
    "d1[\"Sample\"] = sc.Variable([Dim.Tof],\n",
    "                           values=10.0 * np.random.rand(N),\n",
    "                           unit=sc.units.counts)\n",
    "d1.labels[\"somelabels\"] = sc.Variable([sc.Dim.Tof],\n",
    "                                      values=np.linspace(101., 105., N),\n",
    "                                      unit=sc.units.s)\n",
    "plot(d1, axes=[\"somelabels\"])"
   ]
  },
  {
   "cell_type": "markdown",
   "metadata": {},
   "source": [
    "If one has multiple entries in a `Dataset`, the labels corresponding to each dimension need to be specified in a dictionary-like fashion:"
   ]
  },
  {
   "cell_type": "code",
   "execution_count": null,
   "metadata": {},
   "outputs": [],
   "source": [
    "M = 50\n",
    "d1.coords[sc.Dim.X] = sc.Variable([sc.Dim.X],\n",
    "                                  values=np.arange(M).astype(np.float64),\n",
    "                                  unit=sc.units.m)\n",
    "d1[\"Sample2\"] = sc.Variable([sc.Dim.X],\n",
    "                            values=10.0 * np.random.rand(M),\n",
    "                            unit=sc.units.counts)\n",
    "d1.labels[\"Xlabels\"] = sc.Variable([sc.Dim.X],\n",
    "                                   values=np.linspace(151., 155., M),\n",
    "                                   unit=sc.units.s)\n",
    "plot(d1, axes={Dim.X: \"Xlabels\", Dim.Tof: \"somelabels\"})"
   ]
  },
  {
   "cell_type": "markdown",
   "metadata": {},
   "source": [
    "## Plotting 2-D data\n",
    "\n",
    "### 2-D data as an image\n",
    "\n",
    "2-D variables are plotted as images, with a colormap:"
   ]
  },
  {
   "cell_type": "code",
   "execution_count": null,
   "metadata": {},
   "outputs": [],
   "source": [
    "N = 100\n",
    "M = 50\n",
    "xx = np.arange(N, dtype=np.float64)\n",
    "yy = np.arange(M, dtype=np.float64)\n",
    "x, y = np.meshgrid(xx, yy)\n",
    "b = N/20.0\n",
    "c = M/2.0\n",
    "r = np.sqrt(((x-c)/b)**2 + (y/b)**2)\n",
    "a = np.sin(r)\n",
    "d1 = sc.Dataset()\n",
    "d1.coords[Dim.X] = sc.Variable([Dim.X], values=xx, unit=sc.units.m)\n",
    "d1.coords[Dim.Y] = sc.Variable([Dim.Y], values=yy, unit=sc.units.m)\n",
    "d1['Signal'] = sc.Variable([Dim.Y, Dim.X], values=a, unit=sc.units.counts)\n",
    "plot(d1)"
   ]
  },
  {
   "cell_type": "markdown",
   "metadata": {},
   "source": [
    "The dimension displayed along each axis of the image can be selected with the `axes` keyword argument which accepts a list of dimensions:"
   ]
  },
  {
   "cell_type": "code",
   "execution_count": null,
   "metadata": {},
   "outputs": [],
   "source": [
    "plot(d1, axes=[Dim.X, Dim.Y])"
   ]
  },
  {
   "cell_type": "markdown",
   "metadata": {},
   "source": [
    "### 2-D data with variances\n",
    "\n",
    "If variances are present, they are not displayed by default, but they can be shown alongside the data values by using `show_variances=True`:"
   ]
  },
  {
   "cell_type": "code",
   "execution_count": null,
   "metadata": {},
   "outputs": [],
   "source": [
    "d1['Signal'].variances = np.random.normal(a * 0.1, 0.05)\n",
    "plot(d1, show_variances=True)"
   ]
  },
  {
   "cell_type": "markdown",
   "metadata": {},
   "source": [
    "### Changing the colorscale\n",
    "\n",
    "Changing the colorscale is handled via the `cb` keyword argument which is a dictionary holding different options. The type of colormap is defined by the `name` parameter:"
   ]
  },
  {
   "cell_type": "code",
   "execution_count": null,
   "metadata": {},
   "outputs": [],
   "source": [
    "plot(d1, cb={\"name\": \"jet\"})"
   ]
  },
  {
   "cell_type": "markdown",
   "metadata": {},
   "source": [
    "A logarithmic colorscale is obtained by setting `log` to `True`:"
   ]
  },
  {
   "cell_type": "code",
   "execution_count": null,
   "metadata": {},
   "outputs": [],
   "source": [
    "plot(d1, cb={\"name\": \"RdBu\", \"log\": True})"
   ]
  },
  {
   "cell_type": "markdown",
   "metadata": {},
   "source": [
    "Upper and lower limits on the colorscale can be placed using `min` and `max`:"
   ]
  },
  {
   "cell_type": "code",
   "execution_count": null,
   "metadata": {},
   "outputs": [],
   "source": [
    "plot(d1, cb={\"min\": 0, \"max\": 0.5})"
   ]
  },
  {
   "cell_type": "markdown",
   "metadata": {},
   "source": [
    "And this can also be applied to the variances:"
   ]
  },
  {
   "cell_type": "code",
   "execution_count": null,
   "metadata": {},
   "outputs": [],
   "source": [
    "plot(d1, show_variances=True,\n",
    "     cb={\"min\": 0, \"max\": 0.5, \"min_var\": -0.01, \"max_var\": 0.01})"
   ]
  },
  {
   "cell_type": "markdown",
   "metadata": {},
   "source": [
    "### Using labels along some axis\n",
    "\n",
    "Just like in the 1d plots, we can use labels along a chosen dimension:"
   ]
  },
  {
   "cell_type": "code",
   "execution_count": null,
   "metadata": {},
   "outputs": [],
   "source": [
    "d1.labels[\"somelabels\"] = sc.Variable([sc.Dim.X],\n",
    "                                      values=np.linspace(101., 155., N),\n",
    "                                      unit=sc.units.s)\n",
    "plot(d1, axes=[Dim.Y, \"somelabels\"])"
   ]
  },
  {
   "cell_type": "markdown",
   "metadata": {},
   "source": [
    "### Collapsing dimensions\n",
    "\n",
    "Sometimes it is useful to collapse one or more of the data's dimensions, if for instance most detector pixels contain noise, but one specific channel contains a strong signal. This is done by specifying the dimension to be displayed along the x axis as a keyword argument. All other dimensions will be collapsed."
   ]
  },
  {
   "cell_type": "code",
   "execution_count": null,
   "metadata": {},
   "outputs": [],
   "source": [
    "N = 40\n",
    "M = 5\n",
    "x = np.arange(N).astype(np.float64)\n",
    "b = 0.5 * N\n",
    "a = 4.0*np.random.rand(M, N)\n",
    "a[2, :] = np.abs(10.0 * np.cos((x-b)*2.0/b))\n",
    "d2 = sc.Dataset()\n",
    "d2.coords[Dim.Tof] = sc.Variable([Dim.Tof], values=x, unit=sc.units.us)\n",
    "d2.coords[Dim.X] = sc.Variable([Dim.X], values=np.arange(M).astype(np.float64),\n",
    "                               unit=sc.units.m)\n",
    "d2['sample'] = sc.Variable([Dim.X, Dim.Tof], values=a,\n",
    "                           variances=0.1*np.random.rand(M, N))\n",
    "plot(d2)\n",
    "plot(d2, collapse=Dim.Tof)"
   ]
  },
  {
   "cell_type": "markdown",
   "metadata": {},
   "source": [
    "### Image aspect ratio\n",
    "By default, the aspect ratio of 2D images is not preserved; images are stretched to the size of the figure. You can choose to preserve the aspect ratio via the `aspect` keyword argument:"
   ]
  },
  {
   "cell_type": "code",
   "execution_count": null,
   "metadata": {},
   "outputs": [],
   "source": [
    "plot(d2, aspect=\"equal\")"
   ]
  },
  {
   "cell_type": "markdown",
   "metadata": {},
   "source": [
    "You can also make this a permanent setting by comitting it to the `config` module (possible options are `\"equal\"` and `\"auto\"`):"
   ]
  },
  {
   "cell_type": "code",
   "execution_count": null,
   "metadata": {},
   "outputs": [],
   "source": [
    "sc.config.plot.aspect = \"equal\"\n",
    "sc.config.plot.aspect = \"auto\""
   ]
  },
  {
   "cell_type": "markdown",
   "metadata": {},
   "source": [
    "## Plotting data with 3 and more dimensions\n",
    "\n",
    "Data with 3 or more dimensions are by default represented by a 2-D image, accompanied by sliders to navigate the extra dimensions (one slider per dimension above 2)."
   ]
  },
  {
   "cell_type": "code",
   "execution_count": null,
   "metadata": {},
   "outputs": [],
   "source": [
    "N = 50\n",
    "M = 40\n",
    "L = 30\n",
    "K = 20\n",
    "xx = np.arange(N, dtype=np.float64)\n",
    "yy = np.arange(M, dtype=np.float64)\n",
    "zz = np.arange(L, dtype=np.float64)\n",
    "qq = np.arange(K, dtype=np.float64)\n",
    "x, y, z, q = np.meshgrid(xx, yy, zz, qq, indexing='ij')\n",
    "b = N/20.0\n",
    "c = M/2.0\n",
    "d = L/2.0\n",
    "r = np.sqrt(((x-c)/b)**2 + ((y-c)/b)**2 + ((z-d)/b)**2  + ((q-d)/b)**2)\n",
    "a = np.sin(r)\n",
    "d3 = sc.Dataset()\n",
    "d3.coords[Dim.X] = sc.Variable([Dim.X], values=xx)\n",
    "d3.coords[Dim.Y] = sc.Variable([Dim.Y], values=yy)\n",
    "d3.coords[Dim.Z] = sc.Variable([Dim.Z], values=zz)\n",
    "d3.coords[Dim.Qx] = sc.Variable([Dim.Qx], values=qq)\n",
    "d3['Some3Ddata'] = sc.Variable([Dim.X, Dim.Y, Dim.Z, Dim.Qx], values=a,\n",
    "                               variances=np.abs(np.random.normal(a * 0.1, 0.05)))\n",
    "plot(d3)"
   ]
  },
  {
   "cell_type": "markdown",
   "metadata": {},
   "source": [
    "![sliders4d](../images/plotting/sliders4d.png)"
   ]
  },
  {
   "cell_type": "markdown",
   "metadata": {},
   "source": [
    "By default, the two innermost dimensions are used for the image, and the rest will be allocated to a slider.\n",
    "This can be changed, either interactively using the buttons, or by specifying the order of the axes in the `plot` command:"
   ]
  },
  {
   "cell_type": "code",
   "execution_count": null,
   "metadata": {},
   "outputs": [],
   "source": [
    "plot(d3, axes=[Dim.Z, Dim.Qx, Dim.Y, Dim.X])"
   ]
  },
  {
   "cell_type": "markdown",
   "metadata": {},
   "source": [
    "![sliders4dv2](../images/plotting/sliders4dv2.png)"
   ]
  },
  {
   "cell_type": "markdown",
   "metadata": {},
   "source": [
    "### Plotting in 3 dimensions\n",
    "It is also possible to use a 3d projection:"
   ]
  },
  {
   "cell_type": "code",
   "execution_count": null,
   "metadata": {},
   "outputs": [],
   "source": [
    "plot(d3, projection=\"3d\")"
   ]
  },
  {
   "cell_type": "markdown",
   "metadata": {},
   "source": [
    "![proj3d](../images/plotting/threeslice.png)"
   ]
  },
  {
   "cell_type": "markdown",
   "metadata": {},
   "source": [
    "### LAMP's Superplot\n",
    "Finally, a `1d` projection is also available for multidimensional data, with the possibility to keep/remove lines that are plotted, a behaviour we copied from LAMP's [Superplot](https://github.com/mantidproject/documents/blob/master/Requirements/Visualisation_and_Analysis/superplot.md) which was very popular in the neutron physics community."
   ]
  },
  {
   "cell_type": "code",
   "execution_count": null,
   "metadata": {},
   "outputs": [],
   "source": [
    "plot(d3, projection=\"1d\")"
   ]
  },
  {
   "cell_type": "markdown",
   "metadata": {},
   "source": [
    "![superplot](../images/plotting/superplot_widgets.png)"
   ]
  },
  {
   "cell_type": "markdown",
   "metadata": {},
   "source": [
    "## Convenience Methods\n",
    "A small number of convenience methods are included in the `plot` module which provide shortcuts to the different projections. These are `image`, `threeslice`, and `superplot`, and are used in the following way:"
   ]
  },
  {
   "cell_type": "code",
   "execution_count": null,
   "metadata": {},
   "outputs": [],
   "source": [
    "from scipp import plot as pl\n",
    "pl.threeslice(d3)"
   ]
  },
  {
   "cell_type": "markdown",
   "metadata": {},
   "source": [
    "![threeslice](../images/plotting/threeslice.png)"
   ]
  },
  {
   "cell_type": "markdown",
   "metadata": {},
   "source": [
    "## Plotting datasets with mixed data shapes\n",
    "\n",
    "If a dataset contains a mix of variables with different numbers of dimensions, a figure for each type is drawn:"
   ]
  },
  {
   "cell_type": "code",
   "execution_count": null,
   "metadata": {},
   "outputs": [],
   "source": [
    "N = 60\n",
    "M = 5\n",
    "d4 = sc.Dataset()\n",
    "d4.coords[Dim.Tof] = sc.Variable([Dim.Tof],\n",
    "                                 values=np.arange(N).astype(np.float64),\n",
    "                                 unit=sc.units.us)\n",
    "d4['Sample1D'] = sc.Variable([Dim.Tof], values=10.0*np.random.rand(N),\n",
    "                             unit=sc.units.counts)\n",
    "d4['Noise1D'] = sc.Variable([Dim.Tof], values=10.0*np.random.rand(N-1),\n",
    "                            variances=3.0*np.random.rand(N-1),\n",
    "                            unit=sc.units.counts)\n",
    "d4.coords[Dim.X] = sc.Variable([Dim.X], values=np.arange(M).astype(np.float64),\n",
    "                               unit=sc.units.m)\n",
    "d4['Image2D'] = sc.Variable([Dim.X, Dim.Tof], values=10.0*np.random.rand(M, N),\n",
    "                            variances=np.random.rand(M, N))\n",
    "plot(d4)"
   ]
  },
  {
   "cell_type": "markdown",
   "metadata": {},
   "source": [
    "## Plotting sparse data\n",
    "If a `Dataset` contains sparse data, it is possible to plot the data either directly, or using some on-the-fly histogramming."
   ]
  },
  {
   "cell_type": "code",
   "execution_count": null,
   "metadata": {},
   "outputs": [],
   "source": [
    "N = 50\n",
    "M = 10\n",
    "var = sc.Variable(dims=[Dim.X, Dim.Tof],\n",
    "                  shape=[M, sc.Dimensions.Sparse],\n",
    "                  unit=sc.units.us)\n",
    "for i in range(M):\n",
    "    v = np.random.normal(50.0, scale=20.0, size=int(np.random.rand()*N))\n",
    "    var[Dim.X, i].values = v\n",
    "\n",
    "d5 = sc.Dataset()\n",
    "d5.coords[Dim.X] = sc.Variable([Dim.X], values=np.arange(M), unit=sc.units.m)\n",
    "d5['a'] = sc.DataArray(coords={Dim.Tof: var})\n",
    "sc.show(d5)\n",
    "plot(d5)"
   ]
  },
  {
   "cell_type": "markdown",
   "metadata": {},
   "source": [
    "On-the-fly histogramming is achieved by giving a `bins` keyword argument. This can either be a single integer (the number of bins; in this case the extents of the sparse dimension are automatically computed), a numpy array (representing the bin edges), or a `scipp` Variable (representing the bin edges, see https://scipp.readthedocs.io/en/latest/generated/scipp.histogram.html):"
   ]
  },
  {
   "cell_type": "code",
   "execution_count": null,
   "metadata": {},
   "outputs": [],
   "source": [
    "plot(d5, bins=50)"
   ]
  },
  {
   "cell_type": "markdown",
   "metadata": {},
   "source": [
    "If the sparse coordinate has data attached to it (this will usually correspond to weights for each data point), this can be represented by colors in the scatter plot:"
   ]
  },
  {
   "cell_type": "code",
   "execution_count": null,
   "metadata": {},
   "outputs": [],
   "source": [
    "dat = sc.Variable(dims=[Dim.X, Dim.Tof],\n",
    "                  shape=[M, sc.Dimensions.Sparse],\n",
    "                  unit=sc.units.us)\n",
    "for i in range(M):\n",
    "    v = np.random.normal(50.0, scale=20.0, size=len(var[Dim.X, i].values))\n",
    "    dat[Dim.X, i].values = v\n",
    "\n",
    "d5['a'] = sc.DataArray(data=dat, coords={Dim.Tof: var})\n",
    "sc.show(d5)\n",
    "plot(d5)"
   ]
  },
  {
   "cell_type": "markdown",
   "metadata": {},
   "source": [
    "Plotting sparse data with an additional dimension is also possible:"
   ]
  },
  {
   "cell_type": "code",
   "execution_count": null,
   "metadata": {},
   "outputs": [],
   "source": [
    "N = 50\n",
    "M = 10\n",
    "L = 15\n",
    "var = sc.Variable(dims=[Dim.Y, Dim.X, Dim.Tof],\n",
    "                  shape=[L, M, sc.Dimensions.Sparse],\n",
    "                  unit=sc.units.us)\n",
    "dat = sc.Variable(dims=[Dim.Y, Dim.X, Dim.Tof],\n",
    "                  shape=[L, M, sc.Dimensions.Sparse],\n",
    "                  unit=sc.units.us)\n",
    "for i in range(M):\n",
    "    for j in range(L):\n",
    "        v = np.random.normal(50.0, scale=20.0, size=int(np.random.rand()*N))\n",
    "        var[Dim.Y, j][Dim.X, i].values = v\n",
    "        dat[Dim.Y, j][Dim.X, i].values = v * 0.5\n",
    "\n",
    "d6 = sc.Dataset()\n",
    "d6.coords[Dim.X] = sc.Variable([Dim.X], values=np.arange(M), unit=sc.units.m)\n",
    "d6.coords[Dim.Y] = sc.Variable([Dim.Y], values=np.arange(L), unit=sc.units.m)\n",
    "d6['a'] = sc.DataArray(data=dat, coords={Dim.Tof: var})\n",
    "plot(d6)"
   ]
  },
  {
   "cell_type": "markdown",
   "metadata": {},
   "source": [
    "![sparse3d](../images/plotting/sparse3d.png)"
   ]
  },
  {
   "cell_type": "markdown",
   "metadata": {},
   "source": [
    "## Saving figures\n",
    "Static `pdf` or `png` copies of the figures can be saved to file (note that any sliders and buttons displayed under a figure is not saved to file). This is achieved as follows:"
   ]
  },
  {
   "cell_type": "code",
   "execution_count": null,
   "metadata": {},
   "outputs": [],
   "source": [
    "plot(d5, filename=\"myfigure.pdf\")"
   ]
  },
  {
   "cell_type": "markdown",
   "metadata": {},
   "source": [
    "It is also possible to save the 3D figures as a fully interactive html file:"
   ]
  },
  {
   "cell_type": "code",
   "execution_count": null,
   "metadata": {},
   "outputs": [],
   "source": [
    "plot(d6, filename=\"my3dscatterplot.html\")"
   ]
  },
  {
   "cell_type": "markdown",
   "metadata": {},
   "source": [
    "## Customizing figures\n",
    "\n",
    "### Modifying the returned SciPlot object\n",
    "\n",
    "There are two ways of customizing `scipp` figures. The first one is to first create a default figure using the `plot` function, and then modifying its contents.\n",
    "\n",
    "The `plot` commands actually returns a `SciPlot` object which is basically a Python `dict` that contains all the different plot elements, (including the control widgets) grouped into a convenient fashion, and whose notebook representation (`__repr__`) has been muted to limit noise in notebooks.\n",
    "\n",
    "If we examine the output from the `d4` dataset above:"
   ]
  },
  {
   "cell_type": "code",
   "execution_count": null,
   "metadata": {},
   "outputs": [],
   "source": [
    "out = plot(d4)"
   ]
  },
  {
   "cell_type": "markdown",
   "metadata": {},
   "source": [
    "The `out` object contains one key per figure, which is either a combination of `Dimension` and unit for 1d plots, or the name of the variable (`Image2D`) in out case:"
   ]
  },
  {
   "cell_type": "code",
   "execution_count": null,
   "metadata": {},
   "outputs": [],
   "source": [
    "print(out.keys())\n",
    "print(out[\"[Dim.Tof].counts\"])"
   ]
  },
  {
   "cell_type": "markdown",
   "metadata": {},
   "source": [
    "It is then possible to customize figures such as changing a line color or an axis label (note that in case of the 2D images, the `\"ax\"` object is a `dict` as it can contain axes for both `\"values\"` and `\"variances\"`):"
   ]
  },
  {
   "cell_type": "code",
   "execution_count": null,
   "metadata": {},
   "outputs": [],
   "source": [
    "out[\"[Dim.Tof].counts\"][\"lines\"][\"Sample1D\"].set_color(\"cyan\")\n",
    "out[\"Image2D\"][\"ax\"][\"values\"].set_xlabel(\"A shiny new axis label!\")"
   ]
  },
  {
   "cell_type": "markdown",
   "metadata": {},
   "source": [
    "### Placing figures inside existing Matplotlib axes\n",
    "\n",
    "Sometimes, the `scipp` default graphs are not flexible enough for advanced figures. One common case is placing figures in subplots, for example. To this end, it is also possible to attach `scipp` plots to existing `matplotlib` axes.\n",
    "\n",
    "This is achieved via the `mpl_axes` keyword argument, and is best illustrated via a short demo."
   ]
  },
  {
   "cell_type": "code",
   "execution_count": null,
   "metadata": {},
   "outputs": [],
   "source": [
    "import matplotlib.pyplot as plt"
   ]
  },
  {
   "cell_type": "markdown",
   "metadata": {},
   "source": [
    "We first create 3 subplots:"
   ]
  },
  {
   "cell_type": "code",
   "execution_count": null,
   "metadata": {},
   "outputs": [],
   "source": [
    "figs, axs = plt.subplots(1, 3, figsize=(8, 3))"
   ]
  },
  {
   "cell_type": "markdown",
   "metadata": {},
   "source": [
    "Then a `Dataset` with some 2D data:"
   ]
  },
  {
   "cell_type": "code",
   "execution_count": null,
   "metadata": {},
   "outputs": [],
   "source": [
    "N = 100\n",
    "M = 50\n",
    "xx = np.arange(N, dtype=np.float64)\n",
    "yy = np.arange(M, dtype=np.float64)\n",
    "x, y = np.meshgrid(xx[:-1], yy)\n",
    "b = N/20.0\n",
    "c = M/2.0\n",
    "r = np.sqrt(((x-c)/b)**2 + ((y-c)/b)**2)\n",
    "a = 10.0 * np.sin(r)\n",
    "d1 = sc.Dataset()\n",
    "d1.coords[Dim.X] = sc.Variable([Dim.X], values=xx, unit=sc.units.m)\n",
    "d1.coords[Dim.Y] = sc.Variable([Dim.Y], values=yy, unit=sc.units.m)\n",
    "d1['Signal'] = sc.Variable([Dim.Y, Dim.X], values=a, unit=sc.units.counts)"
   ]
  },
  {
   "cell_type": "markdown",
   "metadata": {},
   "source": [
    "Next, we attach the 2D image plot to the first subplot, and display the colorbar in the third subplot:"
   ]
  },
  {
   "cell_type": "code",
   "execution_count": null,
   "metadata": {},
   "outputs": [],
   "source": [
    "out = plot(d1, mpl_axes={\"ax\": axs[0], \"cax\": axs[2]})\n",
    "out.keys()"
   ]
  },
  {
   "cell_type": "markdown",
   "metadata": {},
   "source": [
    "This has just returned a `dict` of `matplotlib` objects, but then we can check that our original figure has been updated:"
   ]
  },
  {
   "cell_type": "code",
   "execution_count": null,
   "metadata": {},
   "outputs": [],
   "source": [
    "figs"
   ]
  },
  {
   "cell_type": "markdown",
   "metadata": {},
   "source": [
    "We can add a 1D plot of a slice through the 2D data in the middle panel, and check once again the original figure:"
   ]
  },
  {
   "cell_type": "code",
   "execution_count": null,
   "metadata": {},
   "outputs": [],
   "source": [
    "out1 = plot(d1[\"Signal\"][Dim.X, 1], mpl_axes=axs[1])\n",
    "figs"
   ]
  },
  {
   "cell_type": "markdown",
   "metadata": {},
   "source": [
    "Next we create a second dataset with some more 1D data and add it to the middle panel:"
   ]
  },
  {
   "cell_type": "code",
   "execution_count": null,
   "metadata": {},
   "outputs": [],
   "source": [
    "d2 = sc.Dataset()\n",
    "N = 100\n",
    "d2.coords[sc.Dim.Tof] = sc.Variable([sc.Dim.Tof],\n",
    "                                    values=np.arange(N).astype(np.float64),\n",
    "                                    unit=sc.units.us)\n",
    "d2[\"Sample\"] = sc.Variable([sc.Dim.Tof],\n",
    "                           values=10.0 * np.random.rand(N),\n",
    "                           variances=np.random.rand(N),\n",
    "                           unit=sc.units.counts)\n",
    "d2[\"Background\"] = sc.Variable([sc.Dim.Tof],\n",
    "                               values=2.0 * np.random.rand(N-1),\n",
    "                               unit=sc.units.counts)"
   ]
  },
  {
   "cell_type": "code",
   "execution_count": null,
   "metadata": {},
   "outputs": [],
   "source": [
    "out2 = plot(d2, mpl_axes=axs[1], color=['r', 'g'])\n",
    "figs"
   ]
  },
  {
   "cell_type": "markdown",
   "metadata": {},
   "source": [
    "We can now for example modify the axes labels:"
   ]
  },
  {
   "cell_type": "code",
   "execution_count": null,
   "metadata": {},
   "outputs": [],
   "source": [
    "axs[0].set_xlabel(\"This is nmy new label!\")\n",
    "figs"
   ]
  },
  {
   "cell_type": "markdown",
   "metadata": {},
   "source": [
    "You can then also access the individual plot objects and change their properties. For example, if we wish to hide the green `\"Sample\"` line and only show the errorbars, we can do:"
   ]
  },
  {
   "cell_type": "code",
   "execution_count": null,
   "metadata": {},
   "outputs": [],
   "source": [
    "out2['[Dim.Tof].counts'][\"lines\"][\"Sample\"].set_linestyle('None')\n",
    "figs"
   ]
  },
  {
   "cell_type": "code",
   "execution_count": null,
   "metadata": {},
   "outputs": [],
   "source": []
  }
 ],
 "metadata": {
  "kernelspec": {
   "display_name": "Python 3",
   "language": "python",
   "name": "python3"
  },
  "language_info": {
   "codemirror_mode": {
    "name": "ipython",
    "version": 3
   },
   "file_extension": ".py",
   "mimetype": "text/x-python",
   "name": "python",
   "nbconvert_exporter": "python",
   "pygments_lexer": "ipython3",
   "version": "3.7.4"
  }
 },
 "nbformat": 4,
 "nbformat_minor": 2
}

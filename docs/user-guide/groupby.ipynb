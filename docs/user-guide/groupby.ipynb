{
 "cells": [
  {
   "cell_type": "markdown",
   "metadata": {},
   "source": [
    "# GroupBy\n",
    "\n",
    "## Grouping with bins\n",
    "\n",
    "Note that this notebooks requires [Mantid](https://www.mantidproject.org/Main_Page) and data files.\n",
    "Therefore, outputs are unfortunately not available on readthedocs.\n",
    "A [binder](https://mybinder.org/v2/gh/scipp/scipp-neutron-jupyter-demo/master) is available that can run this notebook."
   ]
  },
  {
   "cell_type": "code",
   "execution_count": null,
   "metadata": {},
   "outputs": [],
   "source": [
    "import numpy as np\n",
    "import scipp as sc\n",
    "from scipp import Dim"
   ]
  },
  {
   "cell_type": "code",
   "execution_count": null,
   "metadata": {},
   "outputs": [],
   "source": [
    "events = sc.neutron.load(filename='PG3_4844_event.nxs', load_pulse_times=False)"
   ]
  },
  {
   "cell_type": "markdown",
   "metadata": {},
   "source": [
    "### Example 1 (dense data): split-sum-combine\n",
    "\n",
    "We histogram the sparse (event) data:"
   ]
  },
  {
   "cell_type": "code",
   "execution_count": null,
   "metadata": {},
   "outputs": [],
   "source": [
    "bins = sc.Variable([Dim.Tof], values=np.arange(0.0, 17000.0, 50.0), unit=sc.units.us)\n",
    "pos_hist = sc.histogram(events, bins)"
   ]
  },
  {
   "cell_type": "markdown",
   "metadata": {},
   "source": [
    "A plot shows the shortcoming of the data representation.\n",
    "There is no physical meaning attached to the \"spectrum\" dimension and the plot is hard to interpret:"
   ]
  },
  {
   "cell_type": "code",
   "execution_count": null,
   "metadata": {},
   "outputs": [],
   "source": [
    "sc.plot.plot(pos_hist)"
   ]
  },
  {
   "cell_type": "markdown",
   "metadata": {},
   "source": [
    "To improve the plot, we store first the scattering angle as albels in the data array.\n",
    "Then we create a variable containing the desired target binning:"
   ]
  },
  {
   "cell_type": "code",
   "execution_count": null,
   "metadata": {},
   "outputs": [],
   "source": [
    "pos_hist.labels['scattering_angle'] = sc.neutron.scattering_angle(pos_hist)\n",
    "theta = sc.Variable([Dim.ScatteringAngle],\n",
    "                    unit=sc.units.rad,\n",
    "                    values=np.linspace(0.0, np.pi/2, num=200))"
   ]
  },
  {
   "cell_type": "markdown",
   "metadata": {},
   "source": [
    "We use `scipp.groupby` with the desired bins and apply a `sum` over `Dim.Spectrum`:"
   ]
  },
  {
   "cell_type": "code",
   "execution_count": null,
   "metadata": {},
   "outputs": [],
   "source": [
    "theta_hist = sc.groupby(pos_hist, 'scattering_angle', bins=theta).sum(Dim.Spectrum)"
   ]
  },
  {
   "cell_type": "markdown",
   "metadata": {},
   "source": [
    "The result has `Dim.Spectrum` replaced by the physically meaningful `Dim.ScatteringAngle` and the resulting plot is easily interpretable:"
   ]
  },
  {
   "cell_type": "code",
   "execution_count": null,
   "metadata": {},
   "outputs": [],
   "source": [
    "sc.plot.plot(theta_hist)"
   ]
  },
  {
   "cell_type": "markdown",
   "metadata": {},
   "source": [
    "### Example 2 (sparse data): split-flatten-combine\n",
    "\n",
    "This is essentially the same as example 1 but avoids histogramming data too early.\n",
    "A plot of the original data is hard to interpret:"
   ]
  },
  {
   "cell_type": "code",
   "execution_count": null,
   "metadata": {},
   "outputs": [],
   "source": [
    "sc.plot.plot(events, bins=np.linspace(0.0, 17000.0, 1000))"
   ]
  },
  {
   "cell_type": "markdown",
   "metadata": {},
   "source": [
    "To improve the plot, we store first the scattering angle as albels in the data array.\n",
    "Then we create a variable containing the desired target binning:"
   ]
  },
  {
   "cell_type": "code",
   "execution_count": null,
   "metadata": {},
   "outputs": [],
   "source": [
    "events.labels['scattering_angle'] = sc.neutron.scattering_angle(events)\n",
    "theta = sc.Variable([Dim.ScatteringAngle],\n",
    "                    unit=sc.units.rad,\n",
    "                    values=np.linspace(0.0, np.pi/2, num=200))"
   ]
  },
  {
   "cell_type": "markdown",
   "metadata": {},
   "source": [
    "We use `scipp.groupby` with the desired bins and apply a `flatten` `Dim.Spectrum`.\n",
    "This is the sparse-data equivalent to summing histograms:"
   ]
  },
  {
   "cell_type": "code",
   "execution_count": null,
   "metadata": {},
   "outputs": [],
   "source": [
    "theta_events = sc.groupby(events, 'scattering_angle', bins=theta).flatten(Dim.Spectrum)"
   ]
  },
  {
   "cell_type": "markdown",
   "metadata": {},
   "source": [
    "The result has `Dim.Spectrum` replaced by the physically meaningful `Dim.ScatteringAngle` and the resulting plot is easily interpretable:"
   ]
  },
  {
   "cell_type": "code",
   "execution_count": null,
   "metadata": {},
   "outputs": [],
   "source": [
    "sc.plot.plot(theta_events, bins=np.linspace(0.0, 17000.0, 1000))"
   ]
  }
 ],
 "metadata": {
  "kernelspec": {
   "display_name": "Python 3",
   "language": "python",
   "name": "python3"
  },
  "language_info": {
   "codemirror_mode": {
    "name": "ipython",
    "version": 3
   },
   "file_extension": ".py",
   "mimetype": "text/x-python",
   "name": "python",
   "nbconvert_exporter": "python",
   "pygments_lexer": "ipython3",
   "version": "3.6.7"
  },
  "nbsphinx": {
   "execute": "never"
  }
 },
 "nbformat": 4,
 "nbformat_minor": 2
}

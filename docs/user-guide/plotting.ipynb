{
 "cells": [
  {
   "cell_type": "markdown",
   "metadata": {},
   "source": [
    "# Plotting\n",
    "`scipp` offers a number of different ways to plot data from a `DataArray` or a `Dataset`. It uses the `plotly` graphing library to do so."
   ]
  },
  {
   "cell_type": "code",
   "execution_count": null,
   "metadata": {},
   "outputs": [],
   "source": [
    "import numpy as np\n",
    "import scipp as sc\n",
    "from scipp import Dim\n",
    "from scipp.plot import plot"
   ]
  },
  {
   "cell_type": "markdown",
   "metadata": {},
   "source": [
    "There are currently three different backends for plotting. The default (`'interactive'`) renders interactive plots for Jupyter notebooks, while the second (`'static'`) generates static png exports of the figures.\n",
    "The third (`'matplotlib'`) returns a dict of `matplotlib` objects that can then be used in highly customized figures. There is an additional `'matplotlib:quiet'` backend which does not return the objects dict, but is used to simply render the basic `matplotlib` figures in the Jupyter notebook.\n",
    "\n",
    "Here we switch to the `matplotlib` backend, as `plotly` (interactive and static) figures currently do not work when embedded in the documentation pages on `Read the Docs`."
   ]
  },
  {
   "cell_type": "code",
   "execution_count": null,
   "metadata": {},
   "outputs": [],
   "source": [
    "sc.plot.config.backend = \"matplotlib:quiet\"\n",
    "%matplotlib inline"
   ]
  },
  {
   "cell_type": "markdown",
   "metadata": {},
   "source": [
    "## Plotting 1-D data\n",
    "\n",
    "### 1-D line plot\n",
    "\n",
    "Plotting is done using the `scipp.plot` function.\n",
    "Generally the information in a dataset is sufficient to produce a useful plot out of the box.\n",
    "\n",
    "For example, a simple line plot is produced as follows:"
   ]
  },
  {
   "cell_type": "code",
   "execution_count": null,
   "metadata": {},
   "outputs": [],
   "source": [
    "d = sc.Dataset()\n",
    "N = 50\n",
    "d.coords[Dim.Tof] = sc.Variable([Dim.Tof], values=np.arange(N).astype(np.float64),\n",
    "                                unit=sc.units.us)\n",
    "d['Sample'] = sc.Variable([Dim.Tof], values=10.0*np.random.rand(N),\n",
    "                          unit=sc.units.counts)\n",
    "plot(d)"
   ]
  },
  {
   "cell_type": "markdown",
   "metadata": {},
   "source": [
    "### 1D line plot with error bars\n",
    "\n",
    "Error bars are shown automatically if variances are present in the data:"
   ]
  },
  {
   "cell_type": "code",
   "execution_count": null,
   "metadata": {},
   "outputs": [],
   "source": [
    "d['Sample'].variances = np.square(np.random.rand(N))\n",
    "plot(d)"
   ]
  },
  {
   "cell_type": "markdown",
   "metadata": {},
   "source": [
    "Note that the length of the errors bars is the standard-deviation, i.e., the square root of the variances stored in the data.\n",
    "\n",
    "### Multiple lines on the same axes\n",
    "\n",
    "If a dataset contains more than one 1D variable with the same coordinates, they are plotted on the same axes:"
   ]
  },
  {
   "cell_type": "code",
   "execution_count": null,
   "metadata": {},
   "outputs": [],
   "source": [
    "d['Background'] = sc.Variable([Dim.Tof], values=5.0*np.random.rand(N),\n",
    "                              unit=sc.units.counts)\n",
    "plot(d)"
   ]
  },
  {
   "cell_type": "markdown",
   "metadata": {},
   "source": [
    "We can always plot just a single item of the dataset:"
   ]
  },
  {
   "cell_type": "code",
   "execution_count": null,
   "metadata": {},
   "outputs": [],
   "source": [
    "plot(d['Background'])"
   ]
  },
  {
   "cell_type": "markdown",
   "metadata": {},
   "source": [
    "### Choosing the line colors\n",
    "\n",
    "Line colors can be changed via the `color` keyword argument:"
   ]
  },
  {
   "cell_type": "code",
   "execution_count": null,
   "metadata": {},
   "outputs": [],
   "source": [
    "plot(d, color=['red', '#30D5F9'])"
   ]
  },
  {
   "cell_type": "markdown",
   "metadata": {},
   "source": [
    "### Logarithmic scales\n",
    "\n",
    "Logarithmic axes are supported as follows:"
   ]
  },
  {
   "cell_type": "code",
   "execution_count": null,
   "metadata": {},
   "outputs": [],
   "source": [
    "plot(d, logx=True)"
   ]
  },
  {
   "cell_type": "code",
   "execution_count": null,
   "metadata": {},
   "outputs": [],
   "source": [
    "plot(d, logy=True)"
   ]
  },
  {
   "cell_type": "code",
   "execution_count": null,
   "metadata": {},
   "outputs": [],
   "source": [
    "plot(d, logxy=True)"
   ]
  },
  {
   "cell_type": "markdown",
   "metadata": {},
   "source": [
    "### Histograms\n",
    "Histograms are automatically generated if the coordinate is bin edges:"
   ]
  },
  {
   "cell_type": "code",
   "execution_count": null,
   "metadata": {},
   "outputs": [],
   "source": [
    "d['Histogram'] = sc.Variable([Dim.Tof], values=20.0*np.random.rand(N-1),\n",
    "                             unit=sc.units.counts)\n",
    "plot(d['Histogram'])"
   ]
  },
  {
   "cell_type": "markdown",
   "metadata": {},
   "source": [
    "and with error bars"
   ]
  },
  {
   "cell_type": "code",
   "execution_count": null,
   "metadata": {},
   "outputs": [],
   "source": [
    "d['Histogram'].variances = 5.0*np.random.rand(N-1)\n",
    "plot(d['Histogram'])"
   ]
  },
  {
   "cell_type": "markdown",
   "metadata": {},
   "source": [
    "The histogram color can be customized:"
   ]
  },
  {
   "cell_type": "code",
   "execution_count": null,
   "metadata": {},
   "outputs": [],
   "source": [
    "plot(d['Histogram'], color=\"#000000\")"
   ]
  },
  {
   "cell_type": "markdown",
   "metadata": {},
   "source": [
    "### Multiple datasets\n",
    "\n",
    "`scipp.plot` also suports multiple 1-D datasets (note that the data entries are grouped onto the same graph if they have the same dimension and unit):"
   ]
  },
  {
   "cell_type": "code",
   "execution_count": null,
   "metadata": {},
   "outputs": [],
   "source": [
    "other = sc.Dataset()\n",
    "N = 60\n",
    "other.coords[Dim.Tof] = sc.Variable([Dim.Tof],\n",
    "                                    values=np.arange(N).astype(np.float64),\n",
    "                                    unit=sc.units.us)\n",
    "other['OtherSample'] = sc.Variable([Dim.Tof], values=10.0*np.random.rand(N),\n",
    "                                   unit=sc.units.s)\n",
    "other['OtherNoise'] = sc.Variable([Dim.Tof], values=10.0*np.random.rand(N-1),\n",
    "                                  variances=3.0*np.random.rand(N-1),\n",
    "                                  unit=sc.units.s)\n",
    "plot([d, other])"
   ]
  },
  {
   "cell_type": "markdown",
   "metadata": {},
   "source": [
    "### Custom labels along x axis\n",
    "\n",
    "Sometimes one wishes to have `labels` along the X axis instead of the coordinate. This can be achieved via the `axes` keyword argument:"
   ]
  },
  {
   "cell_type": "code",
   "execution_count": null,
   "metadata": {},
   "outputs": [],
   "source": [
    "d1 = sc.Dataset()\n",
    "N = 100\n",
    "d1.coords[Dim.Tof] = sc.Variable([Dim.Tof],\n",
    "                                 values=np.arange(N).astype(np.float64),\n",
    "                                 unit=sc.units.us)\n",
    "d1[\"Sample\"] = sc.Variable([Dim.Tof],\n",
    "                           values=10.0 * np.random.rand(N),\n",
    "                           unit=sc.units.counts)\n",
    "d1.labels[\"somelabels\"] = sc.Variable([sc.Dim.Tof],\n",
    "                                      values=np.linspace(101., 105., N),\n",
    "                                      unit=sc.units.s)\n",
    "plot(d1, axes=\"somelabels\")"
   ]
  },
  {
   "cell_type": "markdown",
   "metadata": {},
   "source": [
    "If one has multiple entries in a `Dataset`, the labels corresponding to each dimension need to be specified in a dictionary-like fashion:"
   ]
  },
  {
   "cell_type": "code",
   "execution_count": null,
   "metadata": {},
   "outputs": [],
   "source": [
    "M = 50\n",
    "d1.coords[sc.Dim.X] = sc.Variable([sc.Dim.X],\n",
    "                                  values=np.arange(M).astype(np.float64),\n",
    "                                  unit=sc.units.m)\n",
    "d1[\"Sample2\"] = sc.Variable([sc.Dim.X],\n",
    "                            values=10.0 * np.random.rand(M),\n",
    "                            unit=sc.units.counts)\n",
    "d1.labels[\"Xlabels\"] = sc.Variable([sc.Dim.X],\n",
    "                                   values=np.linspace(151., 155., M),\n",
    "                                   unit=sc.units.s)\n",
    "plot(d1, axes={Dim.X: \"Xlabels\", Dim.Tof: \"somelabels\"})"
   ]
  },
  {
   "cell_type": "markdown",
   "metadata": {},
   "source": [
    "## Plotting 2-D data\n",
    "\n",
    "### 2-D data as an image\n",
    "\n",
    "2-D variables are plotted as images, with a colormap:"
   ]
  },
  {
   "cell_type": "code",
   "execution_count": null,
   "metadata": {},
   "outputs": [],
   "source": [
    "N = 100\n",
    "M = 50\n",
    "xx = np.arange(N, dtype=np.float64)\n",
    "yy = np.arange(M, dtype=np.float64)\n",
    "x, y = np.meshgrid(xx, yy)\n",
    "b = N/20.0\n",
    "c = M/2.0\n",
    "r = np.sqrt(((x-c)/b)**2 + ((y-c)/b)**2)\n",
    "a = np.sin(r)\n",
    "d1 = sc.Dataset()\n",
    "d1.coords[Dim.X] = sc.Variable([Dim.X], values=xx, unit=sc.units.m)\n",
    "d1.coords[Dim.Y] = sc.Variable([Dim.Y], values=yy, unit=sc.units.m)\n",
    "d1['Signal'] = sc.Variable([Dim.Y, Dim.X], values=a, unit=sc.units.counts)\n",
    "plot(d1)"
   ]
  },
  {
   "cell_type": "markdown",
   "metadata": {},
   "source": [
    "The dimension displayed along each axis of the image can be selected with the `axes` keyword argument which accepts a list of dimensions:"
   ]
  },
  {
   "cell_type": "code",
   "execution_count": null,
   "metadata": {},
   "outputs": [],
   "source": [
    "plot(d1, axes=[Dim.X, Dim.Y])"
   ]
  },
  {
   "cell_type": "markdown",
   "metadata": {},
   "source": [
    "### 2-D data as filled contours\n",
    "\n",
    "Instead of a classical image, we can also used filled contours to display the data:"
   ]
  },
  {
   "cell_type": "code",
   "execution_count": null,
   "metadata": {},
   "outputs": [],
   "source": [
    "plot(d1, contours=True)"
   ]
  },
  {
   "cell_type": "markdown",
   "metadata": {},
   "source": [
    "### 2-D data with variances\n",
    "\n",
    "If variances are present, they are not displayed by default, but they can be shown alongside the data values by using `show_variances=True`:"
   ]
  },
  {
   "cell_type": "code",
   "execution_count": null,
   "metadata": {},
   "outputs": [],
   "source": [
    "d1['Signal'].variances = np.random.normal(a * 0.1, 0.05)\n",
    "plot(d1, show_variances=True)"
   ]
  },
  {
   "cell_type": "markdown",
   "metadata": {},
   "source": [
    "If interactive plotting is enabled in the `jupyter` notebook (either using the `plotly` backend or running `%matplotlib notebook` at the start of the notebook), zooming on either the values or the variances panel will also update the counterpart panel."
   ]
  },
  {
   "cell_type": "markdown",
   "metadata": {},
   "source": [
    "### Changing the colorscale\n",
    "\n",
    "Changing the colorscale is handled via the `cb` keyword argument which is a dictionary holding different options. The type of colormap is defined by the `name` parameter:"
   ]
  },
  {
   "cell_type": "code",
   "execution_count": null,
   "metadata": {},
   "outputs": [],
   "source": [
    "plot(d1, cb={\"name\": \"jet\"})"
   ]
  },
  {
   "cell_type": "markdown",
   "metadata": {},
   "source": [
    "A logarithmic colorscale is obtained by setting `log` to `True`:"
   ]
  },
  {
   "cell_type": "code",
   "execution_count": null,
   "metadata": {},
   "outputs": [],
   "source": [
    "plot(d1, cb={\"name\": \"RdBu\", \"log\": True})"
   ]
  },
  {
   "cell_type": "markdown",
   "metadata": {},
   "source": [
    "Upper and lower limits on the colorscale can be placed using `min` and `max`:"
   ]
  },
  {
   "cell_type": "code",
   "execution_count": null,
   "metadata": {},
   "outputs": [],
   "source": [
    "plot(d1, cb={\"min\": 0, \"max\": 0.5})"
   ]
  },
  {
   "cell_type": "markdown",
   "metadata": {},
   "source": [
    "And this can also be applied to the variances:"
   ]
  },
  {
   "cell_type": "code",
   "execution_count": null,
   "metadata": {},
   "outputs": [],
   "source": [
    "plot(d1, show_variances=True,\n",
    "     cb={\"min\": 0, \"max\": 0.5, \"min_var\": -0.01, \"max_var\": 0.01})"
   ]
  },
  {
   "cell_type": "markdown",
   "metadata": {},
   "source": [
    "### Using labels along some axis\n",
    "\n",
    "Just like in the 1d plots, we can use labels along a chosen dimension:"
   ]
  },
  {
   "cell_type": "code",
   "execution_count": null,
   "metadata": {},
   "outputs": [],
   "source": [
    "d1.labels[\"somelabels\"] = sc.Variable([sc.Dim.X],\n",
    "                                      values=np.linspace(101., 105., N),\n",
    "                                      unit=sc.units.s)\n",
    "plot(d1, axes=[Dim.Y, \"somelabels\"])"
   ]
  },
  {
   "cell_type": "markdown",
   "metadata": {},
   "source": [
    "### Rasterizing large images\n",
    "Large images can be slow to render with `plotly`'s `heatmap` graphing object, as it draws each pixel individually on the web canvas. By default, large images will be converted to rasterized images:"
   ]
  },
  {
   "cell_type": "code",
   "execution_count": null,
   "metadata": {},
   "outputs": [],
   "source": [
    "N = 2000\n",
    "M = 1000\n",
    "xx = np.arange(N, dtype=np.float64)\n",
    "yy = np.arange(M, dtype=np.float64)\n",
    "x, y = np.meshgrid(xx, yy)\n",
    "b = N/1000.0\n",
    "c = M/100.0\n",
    "r = np.sqrt(((x-c)/b)**2 + ((y-c)/b)**2)\n",
    "a = np.sin(r)\n",
    "large = sc.Dataset()\n",
    "large.coords[Dim.X] = sc.Variable([Dim.X], values=xx, unit=sc.units.m)\n",
    "large.coords[Dim.Y] = sc.Variable([Dim.Y], values=yy, unit=sc.units.m)\n",
    "large['Signal'] = sc.Variable([Dim.Y, Dim.X], values=a, unit=sc.units.counts)\n",
    "plot(large)"
   ]
  },
  {
   "cell_type": "markdown",
   "metadata": {},
   "source": [
    "The size limit (number of pixels) above which a 2D image will be rasterized can be changed by setting:"
   ]
  },
  {
   "cell_type": "code",
   "execution_count": null,
   "metadata": {},
   "outputs": [],
   "source": [
    "sc.plot.config.rasterize_threshold = 120000"
   ]
  },
  {
   "cell_type": "markdown",
   "metadata": {},
   "source": [
    "### Collapsing dimensions\n",
    "\n",
    "Sometimes it is useful to collapse one or more of the data's dimensions. This is done by specifying the dimension to be displayed along the x axis as a keyword argument. All other dimensions will be collapsed."
   ]
  },
  {
   "cell_type": "code",
   "execution_count": null,
   "metadata": {},
   "outputs": [],
   "source": [
    "N = 40\n",
    "M = 5\n",
    "d2 = sc.Dataset()\n",
    "d2.coords[Dim.Tof] = sc.Variable([Dim.Tof],\n",
    "                                 values=np.arange(N+1).astype(np.float64),\n",
    "                                 unit=sc.units.us)\n",
    "d2.coords[Dim.X] = sc.Variable([Dim.X], values=np.arange(M).astype(np.float64),\n",
    "                               unit=sc.units.m)\n",
    "d2['sample'] = sc.Variable([Dim.X, Dim.Tof], values=10.0*np.random.rand(M, N),\n",
    "                           variances=np.random.rand(M, N))\n",
    "plot(d2)\n",
    "plot(d2, collapse=Dim.Tof)"
   ]
  },
  {
   "cell_type": "markdown",
   "metadata": {},
   "source": [
    "## Plotting data with 3 and more dimensions\n",
    "\n",
    "Data with 3 or more dimensions are currently represented by a 2-D image, accompanied by sliders to navigate the extra dimensions (one slider per dimension above 2).\n",
    "\n",
    "**Note:** plots for more than 2 dimensions do not show on the documentation pages, they appear only inside the Jupyter notebook."
   ]
  },
  {
   "cell_type": "code",
   "execution_count": null,
   "metadata": {},
   "outputs": [],
   "source": [
    "N = 50\n",
    "M = 40\n",
    "L = 30\n",
    "K = 20\n",
    "xx = np.arange(N, dtype=np.float64)\n",
    "yy = np.arange(M, dtype=np.float64)\n",
    "zz = np.arange(L, dtype=np.float64)\n",
    "qq = np.arange(K, dtype=np.float64)\n",
    "x, y, z, q = np.meshgrid(xx, yy, zz, qq, indexing='ij')\n",
    "b = N/20.0\n",
    "c = M/2.0\n",
    "d = L/2.0\n",
    "r = np.sqrt(((x-c)/b)**2 + ((y-c)/b)**2 + ((z-d)/b)**2  + ((q-d)/b)**2)\n",
    "a = np.sin(r)\n",
    "d3 = sc.Dataset()\n",
    "d3.coords[Dim.X] = sc.Variable([Dim.X], values=xx)\n",
    "d3.coords[Dim.Y] = sc.Variable([Dim.Y], values=yy)\n",
    "d3.coords[Dim.Z] = sc.Variable([Dim.Z], values=zz)\n",
    "d3.coords[Dim.Qx] = sc.Variable([Dim.Qx], values=qq)\n",
    "d3['Some3Ddata'] = sc.Variable([Dim.X, Dim.Y, Dim.Z, Dim.Qx], values=a,\n",
    "                               variances=np.random.normal(a * 0.1, 0.05))\n",
    "plot(d3, backend=\"interactive\")"
   ]
  },
  {
   "cell_type": "markdown",
   "metadata": {},
   "source": [
    "By default, the two innermost dimensions are used for the image, and the rest will be allocated to a slider.\n",
    "This can be changed, either interactively using the buttons, or by specifying the order of the axes in the `plot` command:"
   ]
  },
  {
   "cell_type": "code",
   "execution_count": null,
   "metadata": {},
   "outputs": [],
   "source": [
    "plot(d3, axes=[Dim.Z, Dim.Qx, Dim.Y, Dim.X], backend=\"interactive\")"
   ]
  },
  {
   "cell_type": "markdown",
   "metadata": {},
   "source": [
    "It is also possible to use a 3d projection:"
   ]
  },
  {
   "cell_type": "code",
   "execution_count": null,
   "metadata": {},
   "outputs": [],
   "source": [
    "plot(d3, projection=\"3d\", backend=\"interactive\")"
   ]
  },
  {
   "cell_type": "markdown",
   "metadata": {},
   "source": [
    "And with variances:"
   ]
  },
  {
   "cell_type": "code",
   "execution_count": null,
   "metadata": {},
   "outputs": [],
   "source": [
    "plot(d3, projection=\"3d\", show_variances=True, backend=\"interactive\")"
   ]
  },
  {
   "cell_type": "markdown",
   "metadata": {},
   "source": [
    "## Plotting datasets with mixed data shapes\n",
    "\n",
    "If a dataset contains a mix of variables with different numbers of dimensions, a figure for each type is drawn:"
   ]
  },
  {
   "cell_type": "code",
   "execution_count": null,
   "metadata": {},
   "outputs": [],
   "source": [
    "N = 60\n",
    "M = 5\n",
    "d4 = sc.Dataset()\n",
    "d4.coords[Dim.Tof] = sc.Variable([Dim.Tof],\n",
    "                                 values=np.arange(N).astype(np.float64),\n",
    "                                 unit=sc.units.us)\n",
    "d4['Sample1D'] = sc.Variable([Dim.Tof], values=10.0*np.random.rand(N),\n",
    "                             unit=sc.units.counts)\n",
    "d4['Noise1D'] = sc.Variable([Dim.Tof], values=10.0*np.random.rand(N-1),\n",
    "                            variances=3.0*np.random.rand(N-1),\n",
    "                            unit=sc.units.counts)\n",
    "d4.coords[Dim.X] = sc.Variable([Dim.X], values=np.arange(M).astype(np.float64),\n",
    "                               unit=sc.units.m)\n",
    "d4['Image2D'] = sc.Variable([Dim.X, Dim.Tof], values=10.0*np.random.rand(M, N),\n",
    "                            variances=np.random.rand(M, N))\n",
    "plot(d4)"
   ]
  },
  {
   "cell_type": "markdown",
   "metadata": {},
   "source": [
    "## The Matplotlib backend\n",
    "For more control over the plotting functionality, it is also possible to attach `scipp` plots to `matplotlib` axes. This is useful if one wishes to construct a complicated figure with different subplots.\n",
    "\n",
    "When specifying the keyword argument `backend=\"matplotlib\"`, the `plot` function will not create a figure but instead return a dict containing all the `matplotlib` objects from the plot. These can then be edited by the user for advanced customization.\n",
    "\n",
    "This is best illustrated via a short demo."
   ]
  },
  {
   "cell_type": "code",
   "execution_count": null,
   "metadata": {},
   "outputs": [],
   "source": [
    "import matplotlib.pyplot as plt"
   ]
  },
  {
   "cell_type": "markdown",
   "metadata": {},
   "source": [
    "We first create 3 subplots:"
   ]
  },
  {
   "cell_type": "code",
   "execution_count": null,
   "metadata": {},
   "outputs": [],
   "source": [
    "figs, axs = plt.subplots(1, 3, figsize=(15, 5))"
   ]
  },
  {
   "cell_type": "markdown",
   "metadata": {},
   "source": [
    "Then a `Dataset` with some 2D data:"
   ]
  },
  {
   "cell_type": "code",
   "execution_count": null,
   "metadata": {},
   "outputs": [],
   "source": [
    "N = 100\n",
    "M = 50\n",
    "xx = np.arange(N, dtype=np.float64)\n",
    "yy = np.arange(M, dtype=np.float64)\n",
    "x, y = np.meshgrid(xx[:-1], yy)\n",
    "b = N/20.0\n",
    "c = M/2.0\n",
    "r = np.sqrt(((x-c)/b)**2 + ((y-c)/b)**2)\n",
    "a = np.sin(r)\n",
    "d1 = sc.Dataset()\n",
    "d1.coords[Dim.X] = sc.Variable([Dim.X], values=xx, unit=sc.units.m)\n",
    "d1.coords[Dim.Y] = sc.Variable([Dim.Y], values=yy, unit=sc.units.m)\n",
    "d1['Signal'] = sc.Variable([Dim.Y, Dim.X], values=a, unit=sc.units.counts)"
   ]
  },
  {
   "cell_type": "markdown",
   "metadata": {},
   "source": [
    "Next, we attach the 2D image plot to the first subplot, and display the colorbar in the third subplot:"
   ]
  },
  {
   "cell_type": "code",
   "execution_count": null,
   "metadata": {},
   "outputs": [],
   "source": [
    "out = plot(d1, backend=\"matplotlib\", mpl_axes=axs[0], mpl_cax=axs[2])\n",
    "out"
   ]
  },
  {
   "cell_type": "markdown",
   "metadata": {},
   "source": [
    "This has just returned a `dict` of `matplotlib` objects, but then we can check that our original figure has been updated:"
   ]
  },
  {
   "cell_type": "code",
   "execution_count": null,
   "metadata": {},
   "outputs": [],
   "source": [
    "figs"
   ]
  },
  {
   "cell_type": "markdown",
   "metadata": {},
   "source": [
    "We can add a 1D plot of a slice through the 2D data in the middle panel:"
   ]
  },
  {
   "cell_type": "code",
   "execution_count": null,
   "metadata": {},
   "outputs": [],
   "source": [
    "out1 = plot(d1[\"Signal\"][Dim.X, 1], backend=\"matplotlib\", mpl_axes=axs[1])\n",
    "out1"
   ]
  },
  {
   "cell_type": "markdown",
   "metadata": {},
   "source": [
    "And check once again the original figure:"
   ]
  },
  {
   "cell_type": "code",
   "execution_count": null,
   "metadata": {},
   "outputs": [],
   "source": [
    "figs"
   ]
  },
  {
   "cell_type": "markdown",
   "metadata": {},
   "source": [
    "Next we create a second dataset with some more 1D data and add it to the middle panel:"
   ]
  },
  {
   "cell_type": "code",
   "execution_count": null,
   "metadata": {},
   "outputs": [],
   "source": [
    "d2 = sc.Dataset()\n",
    "N = 100\n",
    "d2.coords[sc.Dim.Tof] = sc.Variable([sc.Dim.Tof],\n",
    "                                    values=np.arange(N).astype(np.float64),\n",
    "                                    unit=sc.units.us)\n",
    "d2[\"Sample\"] = sc.Variable([sc.Dim.Tof],\n",
    "                           values=10.0 * np.random.rand(N),\n",
    "                           variances=np.random.rand(N),\n",
    "                           unit=sc.units.counts)\n",
    "d2[\"Background\"] = sc.Variable([sc.Dim.Tof],\n",
    "                               values=2.0 * np.random.rand(N-1),\n",
    "                               unit=sc.units.counts)"
   ]
  },
  {
   "cell_type": "code",
   "execution_count": null,
   "metadata": {},
   "outputs": [],
   "source": [
    "out2 = plot(d2, backend=\"matplotlib\", mpl_axes=axs[1], color=['r', 'g'])\n",
    "out2"
   ]
  },
  {
   "cell_type": "code",
   "execution_count": null,
   "metadata": {},
   "outputs": [],
   "source": [
    "figs"
   ]
  },
  {
   "cell_type": "markdown",
   "metadata": {},
   "source": [
    "We can now for example modify the axes labels:"
   ]
  },
  {
   "cell_type": "code",
   "execution_count": null,
   "metadata": {},
   "outputs": [],
   "source": [
    "axs[0].set_xlabel(\"This is nmy new label!\")\n",
    "figs"
   ]
  },
  {
   "cell_type": "markdown",
   "metadata": {},
   "source": [
    "You can then also access the individual plot objects and change their properties. For example, if we wish to hide the green `\"Sample\"` line and only show the errorbars, we can do:"
   ]
  },
  {
   "cell_type": "code",
   "execution_count": null,
   "metadata": {},
   "outputs": [],
   "source": [
    "out2['Dim.Tof.counts'][\"line\"][\"Sample\"][0].set_linestyle('None')\n",
    "figs"
   ]
  },
  {
   "cell_type": "code",
   "execution_count": null,
   "metadata": {},
   "outputs": [],
   "source": []
  }
 ],
 "metadata": {
  "kernelspec": {
   "display_name": "Python 3",
   "language": "python",
   "name": "python3"
  },
  "language_info": {
   "codemirror_mode": {
    "name": "ipython",
    "version": 3
   },
   "file_extension": ".py",
   "mimetype": "text/x-python",
   "name": "python",
   "nbconvert_exporter": "python",
   "pygments_lexer": "ipython3",
   "version": "3.7.3"
  }
 },
 "nbformat": 4,
 "nbformat_minor": 2
}

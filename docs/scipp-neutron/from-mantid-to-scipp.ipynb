{
 "cells": [
  {
   "cell_type": "markdown",
   "metadata": {},
   "source": [
    "# From Mantid to Scipp\n",
    "## Data types\n",
    "### Workspaces\n",
    "\n",
    "| Mantid | Scipp |\n",
    "| ---| --- |\n",
    "| `Workspace2D` | `DataArray` |\n",
    "| `EventWorkspace` | `DataArray` |\n",
    "| `WorkspaceSingleValue` | `DataArray` |\n",
    "| `MDHistoWorkspace` | `DataArray` |\n",
    "| `MDEventWorkspace` | - |\n",
    "| `TableWorkspace` | `Dataset` |\n",
    "| `WorkspaceGroup` | `Dataset` (aligned dimensions), otherwise Python `list` or `dict` |\n",
    "\n",
    "#### Notes\n",
    "- In many cases it may be desirable to use `Dataset` instead of `DataArray`.\n",
    "- Scipp (other rather conversion to scipp) is currently still incomplete and does not carry over all information from a workspace.\n",
    "\n",
    "### Other\n",
    "\n",
    "| Mantid | Scipp |\n",
    "| ---| --- |\n",
    "| `DetectorInfo` | `Dataset` |\n",
    "\n",
    "## Algorithms\n",
    "\n",
    "### Notes\n",
    "- In **Mantid** a Python variable referencing **a workspace is** under the hood **a global variable**.\n",
    "  Unless specific otherwise the variable name is the name of the workspace in the [AnalysisDataService](https://docs.mantidproject.org/nightly/concepts/AnalysisDataService.html).\n",
    "  For marginally more clarity, the examples in the following therefore use the string-based syntax for specifying output workspaces.\n",
    "  *In scipp there is no such limitation and everything behaves just like normal variables in Python.*\n",
    "- Unless stated otherwise, the following code examples assume datasets or data arrays have `Dim.Tof` for what Mantid calls \"X\" and `Dim.Spectrum` why Mantid calls \"Y\" or \"spectrum axis\"."
   ]
  },
  {
   "cell_type": "code",
   "execution_count": null,
   "metadata": {},
   "outputs": [],
   "source": [
    "import mantid.simpleapi as mantid\n",
    "import scipp as sc\n",
    "from scipp import Dim\n",
    "import numpy as np"
   ]
  },
  {
   "cell_type": "markdown",
   "metadata": {},
   "source": [
    "### Generic algorithms"
   ]
  },
  {
   "cell_type": "markdown",
   "metadata": {},
   "source": [
    "#### CloneWorkspace"
   ]
  },
  {
   "cell_type": "code",
   "execution_count": null,
   "metadata": {},
   "outputs": [],
   "source": [
    "mantid.CloneWorkspace(InputWorkspace='data', OutputWorkspace='copy')"
   ]
  },
  {
   "cell_type": "markdown",
   "metadata": {},
   "source": [
    "Equivalent in scipp:"
   ]
  },
  {
   "cell_type": "code",
   "execution_count": null,
   "metadata": {},
   "outputs": [],
   "source": [
    "copy = data.copy()"
   ]
  },
  {
   "cell_type": "markdown",
   "metadata": {},
   "source": [
    "#### DeleteWorkspace"
   ]
  },
  {
   "cell_type": "code",
   "execution_count": null,
   "metadata": {},
   "outputs": [],
   "source": [
    "mantid.DeleteWorkspace(Workspace='data')"
   ]
  },
  {
   "cell_type": "markdown",
   "metadata": {},
   "source": [
    "Equivalent in scipp:"
   ]
  },
  {
   "cell_type": "code",
   "execution_count": null,
   "metadata": {},
   "outputs": [],
   "source": [
    "del data"
   ]
  },
  {
   "cell_type": "markdown",
   "metadata": {},
   "source": [
    "#### ExtractSingleSpectrum"
   ]
  },
  {
   "cell_type": "markdown",
   "metadata": {},
   "source": [
    "#### Rebin  `Workspace2D` into `Workspace2D`"
   ]
  },
  {
   "cell_type": "code",
   "execution_count": null,
   "metadata": {},
   "outputs": [],
   "source": [
    "mantid.Rebin(InputWorkspace='histo', OutputWorkspace='histo', Params='0,100,20000')"
   ]
  },
  {
   "cell_type": "markdown",
   "metadata": {},
   "source": [
    "Equivalent in scipp:"
   ]
  },
  {
   "cell_type": "code",
   "execution_count": null,
   "metadata": {},
   "outputs": [],
   "source": [
    "edges = sc.Variable([Dim.Tof], values=np.arange(0.0, 20000.0, 100.0), unit=sc.units.us)\n",
    "histo = sc.rebin(histo, Dim.Tof, edges)"
   ]
  },
  {
   "cell_type": "markdown",
   "metadata": {},
   "source": [
    "#### Rebin  `EventWorkspace` preserving events"
   ]
  },
  {
   "cell_type": "code",
   "execution_count": null,
   "metadata": {},
   "outputs": [],
   "source": [
    "mantid.Rebin(InputWorkspace='events', OutputWorkspace='events', Params='0,100,20000', PreserveEvents=True)"
   ]
  },
  {
   "cell_type": "markdown",
   "metadata": {},
   "source": [
    "Equivalent in scipp:"
   ]
  },
  {
   "cell_type": "code",
   "execution_count": null,
   "metadata": {},
   "outputs": [],
   "source": [
    "edges = sc.Variable([Dim.Tof], values=np.arange(0.0, 20000.0, 100.0), unit=sc.units.us)\n",
    "events.coords[Dim.Tof] = edges"
   ]
  },
  {
   "cell_type": "markdown",
   "metadata": {},
   "source": [
    "#### Rebin  `EventWorkspace` into `Workspace2D`"
   ]
  },
  {
   "cell_type": "code",
   "execution_count": null,
   "metadata": {},
   "outputs": [],
   "source": [
    "mantid.Rebin(InputWorkspace='events', OutputWorkspace='histo', Params='0,100,20000', PreserveEvents=False)"
   ]
  },
  {
   "cell_type": "markdown",
   "metadata": {},
   "source": [
    "Equivalent in scipp:"
   ]
  },
  {
   "cell_type": "code",
   "execution_count": null,
   "metadata": {},
   "outputs": [],
   "source": [
    "edges = sc.Variable([Dim.Tof], values=np.arange(0.0, 20000.0, 100.0), unit=sc.units.us)\n",
    "histo = sc.histogram(events, edges)"
   ]
  },
  {
   "cell_type": "markdown",
   "metadata": {},
   "source": [
    "### Neutron-scattering specific algorithms\n",
    "#### ConvertUnits"
   ]
  },
  {
   "cell_type": "code",
   "execution_count": null,
   "metadata": {},
   "outputs": [],
   "source": [
    "ConvertUnits(InputWorkspace='tof', OutputWorkspace='dspacing', Target='dSpacing')"
   ]
  },
  {
   "cell_type": "markdown",
   "metadata": {},
   "source": [
    "Equivalent in scipp:"
   ]
  },
  {
   "cell_type": "code",
   "execution_count": null,
   "metadata": {},
   "outputs": [],
   "source": [
    "dspacing = sc.neutron.convert(tof, Dim.Tof, Dim.DSpacing)"
   ]
  }
 ],
 "metadata": {
  "kernelspec": {
   "display_name": "Python 3",
   "language": "python",
   "name": "python3"
  },
  "language_info": {
   "codemirror_mode": {
    "name": "ipython",
    "version": 3
   },
   "file_extension": ".py",
   "mimetype": "text/x-python",
   "name": "python",
   "nbconvert_exporter": "python",
   "pygments_lexer": "ipython3",
   "version": "3.6.7"
  },
  "nbsphinx": {
   "execute": "never"
  }
 },
 "nbformat": 4,
 "nbformat_minor": 2
}

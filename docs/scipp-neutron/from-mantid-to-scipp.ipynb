{
 "cells": [
  {
   "cell_type": "markdown",
   "metadata": {},
   "source": [
    "# From Mantid to Scipp\n",
    "## Data types\n",
    "### Workspaces\n",
    "\n",
    "| Mantid | Scipp |\n",
    "| ---| --- |\n",
    "| `Workspace2D` | `DataArray` |\n",
    "| `EventWorkspace` | `DataArray` |\n",
    "| `WorkspaceSingleValue` | `DataArray` |\n",
    "| `MDHistoWorkspace` | `DataArray` |\n",
    "| `MDEventWorkspace` | not supported |\n",
    "| `TableWorkspace` | `Dataset` |\n",
    "| `WorkspaceGroup` | `Dataset` (aligned dimensions), otherwise Python `list` or `dict` |\n",
    "\n",
    "#### Notes\n",
    "- In many cases it may be desirable to use `Dataset` instead of `DataArray`.\n",
    "- Scipp (other rather conversion to scipp) is currently still incomplete and does not carry over all information from a workspace.\n",
    "\n",
    "### Other\n",
    "\n",
    "| Mantid | Scipp |\n",
    "| ---| --- |\n",
    "| `DetectorInfo` | `Dataset` |\n",
    "\n",
    "## Algorithms\n",
    "\n",
    "### Notes\n",
    "- In **Mantid** a Python variable referencing **a workspace is** under the hood **a global variable**.\n",
    "  Unless specific otherwise the variable name is the name of the workspace in the [AnalysisDataService](https://docs.mantidproject.org/nightly/concepts/AnalysisDataService.html).\n",
    "  For marginally more clarity, the examples in the following therefore use the string-based syntax for specifying output workspaces.\n",
    "  *In scipp there is no such limitation and everything behaves just like normal variables in Python.*\n",
    "- Unless stated otherwise, the following code examples assume datasets or data arrays have `Dim.Tof` for what Mantid calls \"X\" and `Dim.Spectrum` why Mantid calls \"Y\" or \"spectrum axis\".\n",
    "- There is not strict 1:1 equivalence between Mantid workspaces and functionality in scipp.\n",
    "  The examples below give the most common examples, but in many cases exceptions apply and detailed behavior may differ.\n",
    "  If in doubt, consult the Mantid algorithm documentation and the scipp documentation."
   ]
  },
  {
   "cell_type": "code",
   "execution_count": null,
   "metadata": {},
   "outputs": [],
   "source": [
    "import mantid.simpleapi as mantid\n",
    "import scipp as sc\n",
    "from scipp import Dim\n",
    "import numpy as np"
   ]
  },
  {
   "cell_type": "markdown",
   "metadata": {},
   "source": [
    "### Generic algorithms"
   ]
  },
  {
   "cell_type": "markdown",
   "metadata": {},
   "source": [
    "#### CloneWorkspace"
   ]
  },
  {
   "cell_type": "code",
   "execution_count": null,
   "metadata": {},
   "outputs": [],
   "source": [
    "mantid.CloneWorkspace(InputWorkspace='data', OutputWorkspace='copy')"
   ]
  },
  {
   "cell_type": "markdown",
   "metadata": {},
   "source": [
    "Equivalent in scipp:"
   ]
  },
  {
   "cell_type": "code",
   "execution_count": null,
   "metadata": {},
   "outputs": [],
   "source": [
    "copy = data.copy()"
   ]
  },
  {
   "cell_type": "markdown",
   "metadata": {},
   "source": [
    "#### DeleteWorkspace"
   ]
  },
  {
   "cell_type": "code",
   "execution_count": null,
   "metadata": {},
   "outputs": [],
   "source": [
    "mantid.DeleteWorkspace(Workspace='data')"
   ]
  },
  {
   "cell_type": "markdown",
   "metadata": {},
   "source": [
    "Equivalent in scipp:"
   ]
  },
  {
   "cell_type": "code",
   "execution_count": null,
   "metadata": {},
   "outputs": [],
   "source": [
    "del data"
   ]
  },
  {
   "cell_type": "markdown",
   "metadata": {},
   "source": [
    "#### ExtractSingleSpectrum"
   ]
  },
  {
   "cell_type": "code",
   "execution_count": null,
   "metadata": {},
   "outputs": [],
   "source": [
    "mantid.ExtractSingleSpectrum(\n",
    "    InputWorkspace='data',\n",
    "    OutputWorkspace='spec',\n",
    "    WorkspaceIndex=7)"
   ]
  },
  {
   "cell_type": "markdown",
   "metadata": {},
   "source": [
    "Equivalent in scipp:"
   ]
  },
  {
   "cell_type": "code",
   "execution_count": null,
   "metadata": {},
   "outputs": [],
   "source": [
    "spec = data[Dim.Spectrum, 7]"
   ]
  },
  {
   "cell_type": "markdown",
   "metadata": {},
   "source": [
    "If an actual *copy* is required use:"
   ]
  },
  {
   "cell_type": "code",
   "execution_count": null,
   "metadata": {},
   "outputs": [],
   "source": [
    "spec = data[Dim.Spectrum, 7].copy()"
   ]
  },
  {
   "cell_type": "markdown",
   "metadata": {},
   "source": [
    "#### ExtractSpectra / CropWorkspace"
   ]
  },
  {
   "cell_type": "code",
   "execution_count": null,
   "metadata": {},
   "outputs": [],
   "source": [
    "mantid.ExtractSpectra(\n",
    "    InputWorkspace='data',\n",
    "    OutputWorkspace='spectra',\n",
    "    StartWorkspaceIndex=7,\n",
    "    EndWorkspaceIndex=88)"
   ]
  },
  {
   "cell_type": "markdown",
   "metadata": {},
   "source": [
    "Equivalent in scipp:"
   ]
  },
  {
   "cell_type": "code",
   "execution_count": null,
   "metadata": {},
   "outputs": [],
   "source": [
    "spectra = data[Dim.Spectrum, 7:89]"
   ]
  },
  {
   "cell_type": "markdown",
   "metadata": {},
   "source": [
    "If an actual *copy* is required use:"
   ]
  },
  {
   "cell_type": "code",
   "execution_count": null,
   "metadata": {},
   "outputs": [],
   "source": [
    "spectra = data[Dim.Spectrum, 7:89].copy()"
   ]
  },
  {
   "cell_type": "markdown",
   "metadata": {},
   "source": [
    "#### Transpose"
   ]
  },
  {
   "cell_type": "code",
   "execution_count": null,
   "metadata": {},
   "outputs": [],
   "source": [
    "mantid.Transpose(InputWorkspace='data', OutputWorkspace='data')"
   ]
  },
  {
   "cell_type": "markdown",
   "metadata": {},
   "source": [
    "Equivalent in scipp:\n",
    "Transposing is *implicit* and automatic based on dimension labels and not required for any of the common operations, including plotting."
   ]
  },
  {
   "cell_type": "markdown",
   "metadata": {},
   "source": [
    "#### AppendSpectra"
   ]
  },
  {
   "cell_type": "code",
   "execution_count": null,
   "metadata": {},
   "outputs": [],
   "source": [
    "mantid.AppendSpectra(\n",
    "    InputWorkspace1='data1',\n",
    "    InputWorkspace2='data2',\n",
    "    OutputWorkspace='data')"
   ]
  },
  {
   "cell_type": "markdown",
   "metadata": {},
   "source": [
    "Equivalent in scipp:"
   ]
  },
  {
   "cell_type": "code",
   "execution_count": null,
   "metadata": {},
   "outputs": [],
   "source": [
    "data = sc.concatenate(data1, data2, Dim.Spectrum)"
   ]
  },
  {
   "cell_type": "markdown",
   "metadata": {},
   "source": [
    "#### ConjoinXRuns"
   ]
  },
  {
   "cell_type": "code",
   "execution_count": null,
   "metadata": {},
   "outputs": [],
   "source": [
    "mantid.ConjoinXRuns(\n",
    "    InputWorkspaces='data1,data2',\n",
    "    OutputWorkspace='data')"
   ]
  },
  {
   "cell_type": "markdown",
   "metadata": {},
   "source": [
    "Equivalent in scipp:"
   ]
  },
  {
   "cell_type": "code",
   "execution_count": null,
   "metadata": {},
   "outputs": [],
   "source": [
    "data = sc.concatenate(data1, data2, Dim.Tof)"
   ]
  },
  {
   "cell_type": "markdown",
   "metadata": {},
   "source": [
    "#### ConjoinSpectra"
   ]
  },
  {
   "cell_type": "code",
   "execution_count": null,
   "metadata": {},
   "outputs": [],
   "source": [
    "mantid.ConjoinSpectra(\n",
    "    InputWorkspaces='ws1,ws2',\n",
    "    OutWorkspace='spec_vs_temperature'\n",
    "    WorkspaceIndex=7,\n",
    "    LabelUsing=\"temperature\",\n",
    "    LabelValue=\"Mean\")"
   ]
  },
  {
   "cell_type": "markdown",
   "metadata": {},
   "source": [
    "Equivalent in scipp:"
   ]
  },
  {
   "cell_type": "code",
   "execution_count": null,
   "metadata": {},
   "outputs": [],
   "source": [
    "data = sc.concatenate(data1, data2, Dim.Temperature)\n",
    "sample_temperature = data.attrs['sample'].value['temperature']\n",
    "data.coords[Dim.Temperature] = sc.mean(sample_temperature, Dim.Time)\n",
    "spec_vs_temperature = data[Dim.Temperature, 7]"
   ]
  },
  {
   "cell_type": "markdown",
   "metadata": {},
   "source": [
    "#### GroupWorkspaces"
   ]
  },
  {
   "cell_type": "code",
   "execution_count": null,
   "metadata": {},
   "outputs": [],
   "source": [
    "mantid.GroupWorkspaces(\n",
    "    InputWorkspaces='ws1,ws2',\n",
    "    OutputWorkspace='data')"
   ]
  },
  {
   "cell_type": "markdown",
   "metadata": {},
   "source": [
    "Equivalent in scipp:"
   ]
  },
  {
   "cell_type": "code",
   "execution_count": null,
   "metadata": {},
   "outputs": [],
   "source": [
    "data = sc.Dataset({\n",
    "    'data1':data_array1,\n",
    "    'data2':data_array2})"
   ]
  },
  {
   "cell_type": "markdown",
   "metadata": {},
   "source": [
    "This requires aligned dimensions (matching coordinates) in all input arrays.\n",
    "Use a Python `dict` or `list` for grouping unaligned data."
   ]
  },
  {
   "cell_type": "markdown",
   "metadata": {},
   "source": [
    "#### Rebin  `Workspace2D` into `Workspace2D`"
   ]
  },
  {
   "cell_type": "code",
   "execution_count": null,
   "metadata": {},
   "outputs": [],
   "source": [
    "mantid.Rebin(\n",
    "    InputWorkspace='histo',\n",
    "    OutputWorkspace='histo',\n",
    "    Params='0,100,20000')"
   ]
  },
  {
   "cell_type": "markdown",
   "metadata": {},
   "source": [
    "Equivalent in scipp:"
   ]
  },
  {
   "cell_type": "code",
   "execution_count": null,
   "metadata": {},
   "outputs": [],
   "source": [
    "edges = sc.Variable(\n",
    "    [Dim.Tof],\n",
    "    values=np.arange(0.0, 20000.0, 100.0),\n",
    "    unit=sc.units.us)\n",
    "histo = sc.rebin(histo, Dim.Tof, edges)"
   ]
  },
  {
   "cell_type": "markdown",
   "metadata": {},
   "source": [
    "#### Rebin  `EventWorkspace` preserving events"
   ]
  },
  {
   "cell_type": "code",
   "execution_count": null,
   "metadata": {},
   "outputs": [],
   "source": [
    "mantid.Rebin(\n",
    "    InputWorkspace='events',\n",
    "    OutputWorkspace='events',\n",
    "    Params='0,100,20000',\n",
    "    PreserveEvents=True)"
   ]
  },
  {
   "cell_type": "markdown",
   "metadata": {},
   "source": [
    "Equivalent in scipp:"
   ]
  },
  {
   "cell_type": "code",
   "execution_count": null,
   "metadata": {},
   "outputs": [],
   "source": [
    "edges = sc.Variable(\n",
    "    [Dim.Tof],\n",
    "    values=np.arange(0.0, 20000.0, 100.0),\n",
    "    unit=sc.units.us)\n",
    "events.coords[Dim.Tof] = edges"
   ]
  },
  {
   "cell_type": "markdown",
   "metadata": {},
   "source": [
    "#### Rebin  `EventWorkspace` into `Workspace2D`"
   ]
  },
  {
   "cell_type": "code",
   "execution_count": null,
   "metadata": {},
   "outputs": [],
   "source": [
    "mantid.Rebin(\n",
    "    InputWorkspace='events',\n",
    "    OutputWorkspace='histo',\n",
    "    Params='0,100,20000',\n",
    "    PreserveEvents=False)"
   ]
  },
  {
   "cell_type": "markdown",
   "metadata": {},
   "source": [
    "Equivalent in scipp:"
   ]
  },
  {
   "cell_type": "code",
   "execution_count": null,
   "metadata": {},
   "outputs": [],
   "source": [
    "edges = sc.Variable(\n",
    "    [Dim.Tof],\n",
    "    values=np.arange(0.0, 20000.0, 100.0),\n",
    "    unit=sc.units.us)\n",
    "histo = sc.histogram(events, edges)"
   ]
  },
  {
   "cell_type": "markdown",
   "metadata": {},
   "source": [
    "#### Scale (multiplication)"
   ]
  },
  {
   "cell_type": "code",
   "execution_count": null,
   "metadata": {},
   "outputs": [],
   "source": [
    "mantid.Scale(\n",
    "    InputWorkspace='data',\n",
    "    OutputWorkspace='data', \n",
    "    Factor=7.5,\n",
    "    Operation=\"Multiply\")"
   ]
  },
  {
   "cell_type": "markdown",
   "metadata": {},
   "source": [
    "Equivalent in scipp:"
   ]
  },
  {
   "cell_type": "code",
   "execution_count": null,
   "metadata": {},
   "outputs": [],
   "source": [
    "data *= 7.5"
   ]
  },
  {
   "cell_type": "markdown",
   "metadata": {},
   "source": [
    "#### Scale (addition)"
   ]
  },
  {
   "cell_type": "code",
   "execution_count": null,
   "metadata": {},
   "outputs": [],
   "source": [
    "mantid.Scale(\n",
    "    InputWorkspace='data',\n",
    "    OutputWorkspace='data', \n",
    "    Factor=7.5,\n",
    "    Operation=\"Add\")"
   ]
  },
  {
   "cell_type": "markdown",
   "metadata": {},
   "source": [
    "Equivalent in scipp:"
   ]
  },
  {
   "cell_type": "code",
   "execution_count": null,
   "metadata": {},
   "outputs": [],
   "source": [
    "data += 7.5"
   ]
  },
  {
   "cell_type": "markdown",
   "metadata": {},
   "source": [
    "If the data is not dimensionless, the correct unit must be specified:"
   ]
  },
  {
   "cell_type": "code",
   "execution_count": null,
   "metadata": {},
   "outputs": [],
   "source": [
    "data += 7.5 * sc.units.us"
   ]
  },
  {
   "cell_type": "markdown",
   "metadata": {},
   "source": [
    "#### ScaleX"
   ]
  },
  {
   "cell_type": "code",
   "execution_count": null,
   "metadata": {},
   "outputs": [],
   "source": [
    "mantid.ScaleX(\n",
    "    InputWorkspace='data',\n",
    "    OutputWorkspace='data', \n",
    "    Factor=7.5,\n",
    "    Operation=\"Multiply\")"
   ]
  },
  {
   "cell_type": "markdown",
   "metadata": {},
   "source": [
    "Equivalent in scipp:"
   ]
  },
  {
   "cell_type": "code",
   "execution_count": null,
   "metadata": {},
   "outputs": [],
   "source": [
    "data.coords[Dim.Tof] *= 7.5"
   ]
  },
  {
   "cell_type": "markdown",
   "metadata": {},
   "source": [
    "### Neutron-scattering specific algorithms\n",
    "#### ConvertUnits"
   ]
  },
  {
   "cell_type": "code",
   "execution_count": null,
   "metadata": {},
   "outputs": [],
   "source": [
    "ConvertUnits(InputWorkspace='tof', OutputWorkspace='dspacing', Target='dSpacing')"
   ]
  },
  {
   "cell_type": "markdown",
   "metadata": {},
   "source": [
    "Equivalent in scipp:"
   ]
  },
  {
   "cell_type": "code",
   "execution_count": null,
   "metadata": {},
   "outputs": [],
   "source": [
    "dspacing = sc.neutron.convert(tof, Dim.Tof, Dim.DSpacing)"
   ]
  }
 ],
 "metadata": {
  "kernelspec": {
   "display_name": "Python 3",
   "language": "python",
   "name": "python3"
  },
  "language_info": {
   "codemirror_mode": {
    "name": "ipython",
    "version": 3
   },
   "file_extension": ".py",
   "mimetype": "text/x-python",
   "name": "python",
   "nbconvert_exporter": "python",
   "pygments_lexer": "ipython3",
   "version": "3.6.7"
  },
  "nbsphinx": {
   "execute": "never"
  }
 },
 "nbformat": 4,
 "nbformat_minor": 2
}

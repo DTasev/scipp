{
 "cells": [
  {
   "cell_type": "markdown",
   "metadata": {},
   "source": [
    "# Dataset: A motivation from the Mantid perspective\n",
    "\n",
    "If you are not familiar with Mantid or data-reduction for neutron-scattering data, this part of the introduction is likely irrelevant for you.\n",
    "Skip ahead to [Dataset in a Nutshell - Part 1](demo-part1.ipynb) to start learning about the basics of using `Dataset`.\n",
    "\n",
    "## Status quo\n",
    "\n",
    "An imcomplete overview of aspects of Mantid that motivated the development of the `Dataset` container is given below.\n",
    "\n",
    "![Mantid workspace inheritance tree](img/WorkspaceHierarchy.jpg)\n",
    "\n",
    "- Not enough workspace types to support all aspects of all use-cases.\n",
    "  Often a bit too inflexible to readily support new requirements.\n",
    "  - Constant-wavelength data stored as length-1 histograms.\n",
    "  - Polarization analysis?\n",
    "  - Sample-environment parameter scans?\n",
    "  - Handling multiple runs or data belonging to the same measurement/experiment.\n",
    "  - `HKL` values stored in a histogram?!\n",
    "  - Imaging?\n",
    "  - Store a variety of beamline monitors in a flexibly way?\n",
    "  - <img src=\"img/sans-limitation.png\" height=\"80%\" width=\"80%\">\n",
    "  - Difficult to store certain information in a natural way, e.g., `E_i` or `E_f` for inelastic scattering.\n",
    "  - Little hope to improve performance across the board due to existing data structure eternalized in a large number of algorithms.\n",
    "- Partially inconsistent and incomplete Python interface.\n",
    "- Limit leeway in interaction with other Python packages such as `numpy`, and Python-style code in general.\n",
    "- Have to memorize the API of many different workspaces, and the names of the corresponding algorithms.\n",
    "  - Similar or identical concepts require the use of different algorithms for different workspace types, and sometimes even different algorithms for the same workspace type.\n",
    "  - Hard to teach and long learning curve for developers as well as users.\n",
    "- [List of other issues](https://github.com/mantidproject/documents/blob/master/Project-Management/CoreTeam/workspace-notes.md)."
   ]
  },
  {
   "cell_type": "markdown",
   "metadata": {},
   "source": [
    "## Google Trends (category \"Sience\")\n",
    "<img src=\"img/google-trends.png\" height=\"70%\" width=\"70%\">\n",
    "\n",
    "## Mantid going the same direction?\n",
    "<img src=\"img/cumulative-algorithm-count.png\" height=\"80%\" width=\"80%\">\n",
    "\n",
    "## Existing technology?\n",
    "<img src=\"img/1280px-NumPy_logo.png\" height=\"25%\" width=\"25%\">\n",
    "<img src=\"img/1280px-Pandas_logo.png\" height=\"25%\" width=\"25%\">\n",
    "<img src=\"img/dataset-diagram-logo.png\" height=\"25%\" width=\"25%\">\n",
    "\n",
    "Of these, [xarray](http://xarray.pydata.org/en/stable/) is has most overlap with our requirements on a data container.\n",
    "However, we are missing:\n",
    "- C++ backend.\n",
    "- Handling of physical units.\n",
    "- Propagation of uncertainties.\n",
    "- Support of histograms, i.e., we cannot have a bin-edge axis, which is by 1 longer than the other variables in that dimension.\n",
    "- Support for event data."
   ]
  },
  {
   "cell_type": "markdown",
   "metadata": {},
   "source": [
    "## Dataset\n",
    "\n",
    "`Dataset` as presented here is a C++ library with Python exports.\n",
    "It is inspired by `xarray.Dataset`, but adds support for the key features that are (currently) missing in `xarray`.\n",
    "\n",
    "A good way to think about a `Dataset` is as a Python `dict` of `numpy.ndarray` objects (in reality everything is implemented in C++), with the addition of labeled dimensions and units.\n",
    "The entries in the `dict` are grouped into two main categories, coordinates and data.\n",
    "This distinction yields an intuitive and well-defined behavior of operations:\n",
    "- Coordinates are compared.\n",
    "- Data is operated on.\n",
    "\n",
    "*Example: An addition of two datasets will compare all coordinates and abort if they are incompatible. If it succeeds, all data variables are matches based on their tag/name and added.*\n",
    "\n",
    "`Dataset` is a *single* and *simple* container that provides a *uniform* interface to data the Mantid stores in:\n",
    "- `MatrixWorkspace` and its child classes, notably `Workspace2D` and `EventWorkspace`.\n",
    "- `TableWorkspace`.\n",
    "- `MDHistoWorkspace`.\n",
    "- Instrument-2.0 types (`DetectorInfo` and `ComponentInfo`).\n",
    "- `EventList`, but other, more efficient event-storage would be supported.\n",
    "- `Histogram` in special cases where 1D histograms is needed, the default data layout of a dataset removes the need for this.\n",
    "- Various other like `Run` or `TimeSeriesProperty`, if desired.\n",
    "\n",
    "In addition, it covers many other cases that are currently impossible to represent in a single workspace or in an intuitive manner.\n",
    "\n",
    "A basic dataset might look like this:\n",
    "\n",
    "<img src=\"img/dataset-3d-two-data-variables.png\" height=\"66%\" width=\"66%\">\n",
    "\n",
    "At this point, we recommend a glimpse at [Dataset in a Nutshell - Part 3](demo-part3.ipynb) to give an idea what the basics we introduce in Part 1 and 2 can be used for.\n",
    "We do not suggest attempting to undertand the details, but consider that in very few lines of code we can:\n",
    "- Merge event data into a dataset with multiple variables (sample and vanadium run). Subsequent operations are applied to both.\n",
    "- Inspect the structure of the dataset, including the nested \"tables\" of event data for each pixel.\n",
    "- Histogram the data, keeping or removing the events.\n",
    "- Add three different types of monitors to the same dataset (event-mode, histogram-mode, pixellated).\n",
    "- Plot various slices of the data and monitors.\n",
    "- Rebin, convert units, and normalize to monitors or vanadium.\n",
    "- Add a temperature dimension and axis and concatenate data from different sample temperatures, transforming the initial 2D data into 3D data.\n",
    "\n",
    "Continue to [Dataset in a Nutshell - Part 1](demo-part1.ipynb) to start learning about the basics of using `Dataset`."
   ]
  }
 ],
 "metadata": {
  "kernelspec": {
   "display_name": "Python 3",
   "language": "python",
   "name": "python3"
  },
  "language_info": {
   "codemirror_mode": {
    "name": "ipython",
    "version": 3
   },
   "file_extension": ".py",
   "mimetype": "text/x-python",
   "name": "python",
   "nbconvert_exporter": "python",
   "pygments_lexer": "ipython3",
   "version": "3.6.7"
  }
 },
 "nbformat": 4,
 "nbformat_minor": 2
}

{
 "cells": [
  {
   "cell_type": "markdown",
   "metadata": {},
   "source": [
    "# Operations with variables and datasets\n",
    "\n",
    "Operations \"align\" data items based on their dimension labels:"
   ]
  },
  {
   "cell_type": "code",
   "execution_count": 1,
   "metadata": {},
   "outputs": [
    {
     "data": {
      "text/plain": [
       "    <scipp.Variable>          double    [m s^-1]         (Dim.X, Dim.Y)  [1.512420, 0.896560, 0.517993, 1.116080, 0.660887, 0.798604, 1.407452, 0.763347]  [17.513852, 3.289358, 3.147823, 2.777012, 38.676690, 2.262908, 7.942264, 2.248208]"
      ]
     },
     "execution_count": 1,
     "metadata": {},
     "output_type": "execute_result"
    }
   ],
   "source": [
    "import numpy as np\n",
    "import scipp as sc\n",
    "from scipp import Dim\n",
    "\n",
    "a = sc.Variable(values=np.random.rand(2, 4),\n",
    "                variances=np.random.rand(2, 4),\n",
    "                dims=[Dim.X, Dim.Y],\n",
    "                unit=sc.units.m)\n",
    "b = sc.Variable(values=np.random.rand(4, 2),\n",
    "                variances=np.random.rand(4, 2),\n",
    "                dims=[Dim.Y, Dim.X],\n",
    "                unit=sc.units.s)\n",
    "a/b"
   ]
  },
  {
   "cell_type": "markdown",
   "metadata": {},
   "source": [
    "Note how operations with variables correctly propagate uncertainties (the variances), in contrast to a naive implementation using numpy:"
   ]
  },
  {
   "cell_type": "code",
   "execution_count": 2,
   "metadata": {},
   "outputs": [
    {
     "data": {
      "text/plain": [
       "array([[1.51242046, 0.89655973, 0.51799305, 1.11607958],\n",
       "       [0.66088695, 0.79860444, 1.40745185, 0.76334714]])"
      ]
     },
     "execution_count": 2,
     "metadata": {},
     "output_type": "execute_result"
    }
   ],
   "source": [
    "result = a/b\n",
    "result.values"
   ]
  },
  {
   "cell_type": "code",
   "execution_count": 3,
   "metadata": {},
   "outputs": [
    {
     "data": {
      "text/plain": [
       "array([[1.51242046, 0.89655973, 0.51799305, 1.11607958],\n",
       "       [0.66088695, 0.79860444, 1.40745185, 0.76334714]])"
      ]
     },
     "execution_count": 3,
     "metadata": {},
     "output_type": "execute_result"
    }
   ],
   "source": [
    "a.values/np.transpose(b.values)"
   ]
  },
  {
   "cell_type": "code",
   "execution_count": 4,
   "metadata": {},
   "outputs": [
    {
     "data": {
      "text/plain": [
       "array([[17.51385166,  3.2893584 ,  3.14782314,  2.77701245],\n",
       "       [38.67668987,  2.26290811,  7.9422638 ,  2.24820827]])"
      ]
     },
     "execution_count": 4,
     "metadata": {},
     "output_type": "execute_result"
    }
   ],
   "source": [
    "result.variances"
   ]
  },
  {
   "cell_type": "code",
   "execution_count": 5,
   "metadata": {},
   "outputs": [
    {
     "data": {
      "text/plain": [
       "array([[1.03542978, 2.03259694, 3.07205974, 0.07766485],\n",
       "       [2.40929699, 0.52900654, 0.75848209, 0.81175937]])"
      ]
     },
     "execution_count": 5,
     "metadata": {},
     "output_type": "execute_result"
    }
   ],
   "source": [
    "a.variances/np.transpose(b.variances)"
   ]
  },
  {
   "cell_type": "markdown",
   "metadata": {},
   "source": [
    "The implementation assumes uncorrelated data and is otherwise based on, e.g., [Wikipedia: Propagation of uncertainty](https://en.wikipedia.org/wiki/Propagation_of_uncertainty#Example_formulae>).\n",
    "See also [Propagation of uncertainties](error-propagation.rst) for the concrete equations used for error propagation.\n",
    "\n",
    "Missing dimensions in the operands are automatically broadcast:"
   ]
  },
  {
   "cell_type": "code",
   "execution_count": 6,
   "metadata": {},
   "outputs": [
    {
     "data": {
      "text/plain": [
       "array([[0.53490047, 0.50462015, 0.24760308, 0.69791789],\n",
       "       [0.04053041, 0.56151394, 0.80772139, 0.5671464 ]])"
      ]
     },
     "execution_count": 6,
     "metadata": {},
     "output_type": "execute_result"
    }
   ],
   "source": [
    "a.values"
   ]
  },
  {
   "cell_type": "code",
   "execution_count": 7,
   "metadata": {},
   "outputs": [
    {
     "data": {
      "text/plain": [
       "array([[ 0.49437006, -0.05689379, -0.56011831,  0.13077149],\n",
       "       [ 0.        ,  0.        ,  0.        ,  0.        ]])"
      ]
     },
     "execution_count": 7,
     "metadata": {},
     "output_type": "execute_result"
    }
   ],
   "source": [
    "a -= a[Dim.X, 1]\n",
    "a.values"
   ]
  },
  {
   "cell_type": "markdown",
   "metadata": {},
   "source": [
    "Both operands may be broadcast, creating an output with the combination of input dimensions:"
   ]
  },
  {
   "cell_type": "code",
   "execution_count": 12,
   "metadata": {},
   "outputs": [
    {
     "data": {
      "text/html": [
       "<svg viewBox=\"0 0 16 3.9\"><g><text x=\"0.0\" y=\"0.6\"                     style=\"font-size:0.2px\">                    dims=[Dim.Y], shape=[4], unit=m, variances=True                    </text><g><title>variances</title><rect style=\"fill:#ffe680;fill-opacity:1;stroke:#000;stroke-width:0.05\" id=\"rect\" width=\"1\" height=\"1\" x=\"1.6\" y=\"1.3\"/> <path style=\"fill:#ffd42a;stroke:#000;stroke-width:0.05;stroke-linejoin:round\" d=\"m 1.6 1.3 l 0.3 -0.3 h 1 l -0.3 0.3 z\" id=\"path1\" /> <path style=\"fill:#d4aa00;stroke:#000;stroke-width:0.05;stroke-linejoin:round\" d=\"m 1.6 1.3 m 1 0 l 0.3 -0.3 v 1 l -0.3 0.3 z\" id=\"path2\" /><rect style=\"fill:#ffe680;fill-opacity:1;stroke:#000;stroke-width:0.05\" id=\"rect\" width=\"1\" height=\"1\" x=\"2.6\" y=\"1.3\"/> <path style=\"fill:#ffd42a;stroke:#000;stroke-width:0.05;stroke-linejoin:round\" d=\"m 2.6 1.3 l 0.3 -0.3 h 1 l -0.3 0.3 z\" id=\"path1\" /> <path style=\"fill:#d4aa00;stroke:#000;stroke-width:0.05;stroke-linejoin:round\" d=\"m 2.6 1.3 m 1 0 l 0.3 -0.3 v 1 l -0.3 0.3 z\" id=\"path2\" /><rect style=\"fill:#ffe680;fill-opacity:1;stroke:#000;stroke-width:0.05\" id=\"rect\" width=\"1\" height=\"1\" x=\"3.6\" y=\"1.3\"/> <path style=\"fill:#ffd42a;stroke:#000;stroke-width:0.05;stroke-linejoin:round\" d=\"m 3.6 1.3 l 0.3 -0.3 h 1 l -0.3 0.3 z\" id=\"path1\" /> <path style=\"fill:#d4aa00;stroke:#000;stroke-width:0.05;stroke-linejoin:round\" d=\"m 3.6 1.3 m 1 0 l 0.3 -0.3 v 1 l -0.3 0.3 z\" id=\"path2\" /><rect style=\"fill:#ffe680;fill-opacity:1;stroke:#000;stroke-width:0.05\" id=\"rect\" width=\"1\" height=\"1\" x=\"4.6\" y=\"1.3\"/> <path style=\"fill:#ffd42a;stroke:#000;stroke-width:0.05;stroke-linejoin:round\" d=\"m 4.6 1.3 l 0.3 -0.3 h 1 l -0.3 0.3 z\" id=\"path1\" /> <path style=\"fill:#d4aa00;stroke:#000;stroke-width:0.05;stroke-linejoin:round\" d=\"m 4.6 1.3 m 1 0 l 0.3 -0.3 v 1 l -0.3 0.3 z\" id=\"path2\" /></g><g><title>values</title><rect style=\"fill:#ffe680;fill-opacity:1;stroke:#000;stroke-width:0.05\" id=\"rect\" width=\"1\" height=\"1\" x=\"1.0\" y=\"1.9\"/> <path style=\"fill:#ffd42a;stroke:#000;stroke-width:0.05;stroke-linejoin:round\" d=\"m 1.0 1.9 l 0.3 -0.3 h 1 l -0.3 0.3 z\" id=\"path1\" /> <path style=\"fill:#d4aa00;stroke:#000;stroke-width:0.05;stroke-linejoin:round\" d=\"m 1.0 1.9 m 1 0 l 0.3 -0.3 v 1 l -0.3 0.3 z\" id=\"path2\" /><rect style=\"fill:#ffe680;fill-opacity:1;stroke:#000;stroke-width:0.05\" id=\"rect\" width=\"1\" height=\"1\" x=\"2.0\" y=\"1.9\"/> <path style=\"fill:#ffd42a;stroke:#000;stroke-width:0.05;stroke-linejoin:round\" d=\"m 2.0 1.9 l 0.3 -0.3 h 1 l -0.3 0.3 z\" id=\"path1\" /> <path style=\"fill:#d4aa00;stroke:#000;stroke-width:0.05;stroke-linejoin:round\" d=\"m 2.0 1.9 m 1 0 l 0.3 -0.3 v 1 l -0.3 0.3 z\" id=\"path2\" /><rect style=\"fill:#ffe680;fill-opacity:1;stroke:#000;stroke-width:0.05\" id=\"rect\" width=\"1\" height=\"1\" x=\"3.0\" y=\"1.9\"/> <path style=\"fill:#ffd42a;stroke:#000;stroke-width:0.05;stroke-linejoin:round\" d=\"m 3.0 1.9 l 0.3 -0.3 h 1 l -0.3 0.3 z\" id=\"path1\" /> <path style=\"fill:#d4aa00;stroke:#000;stroke-width:0.05;stroke-linejoin:round\" d=\"m 3.0 1.9 m 1 0 l 0.3 -0.3 v 1 l -0.3 0.3 z\" id=\"path2\" /><rect style=\"fill:#ffe680;fill-opacity:1;stroke:#000;stroke-width:0.05\" id=\"rect\" width=\"1\" height=\"1\" x=\"4.0\" y=\"1.9\"/> <path style=\"fill:#ffd42a;stroke:#000;stroke-width:0.05;stroke-linejoin:round\" d=\"m 4.0 1.9 l 0.3 -0.3 h 1 l -0.3 0.3 z\" id=\"path1\" /> <path style=\"fill:#d4aa00;stroke:#000;stroke-width:0.05;stroke-linejoin:round\" d=\"m 4.0 1.9 m 1 0 l 0.3 -0.3 v 1 l -0.3 0.3 z\" id=\"path2\" /></g></g></svg>"
      ],
      "text/plain": [
       "<IPython.core.display.HTML object>"
      ]
     },
     "metadata": {},
     "output_type": "display_data"
    },
    {
     "data": {
      "text/html": [
       "<svg viewBox=\"0 0 16 3.9\"><g><text x=\"0.0\" y=\"0.6\"                     style=\"font-size:0.2px\">                    dims=[Dim.X], shape=[2], unit=m, variances=True                    </text><g><title>variances</title><rect style=\"fill:#ffe680;fill-opacity:1;stroke:#000;stroke-width:0.05\" id=\"rect\" width=\"1\" height=\"1\" x=\"1.6\" y=\"1.3\"/> <path style=\"fill:#ffd42a;stroke:#000;stroke-width:0.05;stroke-linejoin:round\" d=\"m 1.6 1.3 l 0.3 -0.3 h 1 l -0.3 0.3 z\" id=\"path1\" /> <path style=\"fill:#d4aa00;stroke:#000;stroke-width:0.05;stroke-linejoin:round\" d=\"m 1.6 1.3 m 1 0 l 0.3 -0.3 v 1 l -0.3 0.3 z\" id=\"path2\" /><rect style=\"fill:#ffe680;fill-opacity:1;stroke:#000;stroke-width:0.05\" id=\"rect\" width=\"1\" height=\"1\" x=\"2.6\" y=\"1.3\"/> <path style=\"fill:#ffd42a;stroke:#000;stroke-width:0.05;stroke-linejoin:round\" d=\"m 2.6 1.3 l 0.3 -0.3 h 1 l -0.3 0.3 z\" id=\"path1\" /> <path style=\"fill:#d4aa00;stroke:#000;stroke-width:0.05;stroke-linejoin:round\" d=\"m 2.6 1.3 m 1 0 l 0.3 -0.3 v 1 l -0.3 0.3 z\" id=\"path2\" /></g><g><title>values</title><rect style=\"fill:#ffe680;fill-opacity:1;stroke:#000;stroke-width:0.05\" id=\"rect\" width=\"1\" height=\"1\" x=\"1.0\" y=\"1.9\"/> <path style=\"fill:#ffd42a;stroke:#000;stroke-width:0.05;stroke-linejoin:round\" d=\"m 1.0 1.9 l 0.3 -0.3 h 1 l -0.3 0.3 z\" id=\"path1\" /> <path style=\"fill:#d4aa00;stroke:#000;stroke-width:0.05;stroke-linejoin:round\" d=\"m 1.0 1.9 m 1 0 l 0.3 -0.3 v 1 l -0.3 0.3 z\" id=\"path2\" /><rect style=\"fill:#ffe680;fill-opacity:1;stroke:#000;stroke-width:0.05\" id=\"rect\" width=\"1\" height=\"1\" x=\"2.0\" y=\"1.9\"/> <path style=\"fill:#ffd42a;stroke:#000;stroke-width:0.05;stroke-linejoin:round\" d=\"m 2.0 1.9 l 0.3 -0.3 h 1 l -0.3 0.3 z\" id=\"path1\" /> <path style=\"fill:#d4aa00;stroke:#000;stroke-width:0.05;stroke-linejoin:round\" d=\"m 2.0 1.9 m 1 0 l 0.3 -0.3 v 1 l -0.3 0.3 z\" id=\"path2\" /></g></g></svg>"
      ],
      "text/plain": [
       "<IPython.core.display.HTML object>"
      ]
     },
     "metadata": {},
     "output_type": "display_data"
    },
    {
     "data": {
      "text/html": [
       "<svg viewBox=\"0 0 16 4.9\"><g><text x=\"0.0\" y=\"0.6\"                     style=\"font-size:0.2px\">                    dims=[Dim.X, Dim.Y], shape=[2, 4], unit=m, variances=True                    </text><g><title>variances</title><rect style=\"fill:#ffe680;fill-opacity:1;stroke:#000;stroke-width:0.05\" id=\"rect\" width=\"1\" height=\"1\" x=\"1.6\" y=\"2.3\"/> <path style=\"fill:#ffd42a;stroke:#000;stroke-width:0.05;stroke-linejoin:round\" d=\"m 1.6 2.3 l 0.3 -0.3 h 1 l -0.3 0.3 z\" id=\"path1\" /> <path style=\"fill:#d4aa00;stroke:#000;stroke-width:0.05;stroke-linejoin:round\" d=\"m 1.6 2.3 m 1 0 l 0.3 -0.3 v 1 l -0.3 0.3 z\" id=\"path2\" /><rect style=\"fill:#ffe680;fill-opacity:1;stroke:#000;stroke-width:0.05\" id=\"rect\" width=\"1\" height=\"1\" x=\"2.6\" y=\"2.3\"/> <path style=\"fill:#ffd42a;stroke:#000;stroke-width:0.05;stroke-linejoin:round\" d=\"m 2.6 2.3 l 0.3 -0.3 h 1 l -0.3 0.3 z\" id=\"path1\" /> <path style=\"fill:#d4aa00;stroke:#000;stroke-width:0.05;stroke-linejoin:round\" d=\"m 2.6 2.3 m 1 0 l 0.3 -0.3 v 1 l -0.3 0.3 z\" id=\"path2\" /><rect style=\"fill:#ffe680;fill-opacity:1;stroke:#000;stroke-width:0.05\" id=\"rect\" width=\"1\" height=\"1\" x=\"3.6\" y=\"2.3\"/> <path style=\"fill:#ffd42a;stroke:#000;stroke-width:0.05;stroke-linejoin:round\" d=\"m 3.6 2.3 l 0.3 -0.3 h 1 l -0.3 0.3 z\" id=\"path1\" /> <path style=\"fill:#d4aa00;stroke:#000;stroke-width:0.05;stroke-linejoin:round\" d=\"m 3.6 2.3 m 1 0 l 0.3 -0.3 v 1 l -0.3 0.3 z\" id=\"path2\" /><rect style=\"fill:#ffe680;fill-opacity:1;stroke:#000;stroke-width:0.05\" id=\"rect\" width=\"1\" height=\"1\" x=\"4.6\" y=\"2.3\"/> <path style=\"fill:#ffd42a;stroke:#000;stroke-width:0.05;stroke-linejoin:round\" d=\"m 4.6 2.3 l 0.3 -0.3 h 1 l -0.3 0.3 z\" id=\"path1\" /> <path style=\"fill:#d4aa00;stroke:#000;stroke-width:0.05;stroke-linejoin:round\" d=\"m 4.6 2.3 m 1 0 l 0.3 -0.3 v 1 l -0.3 0.3 z\" id=\"path2\" /><rect style=\"fill:#ffe680;fill-opacity:1;stroke:#000;stroke-width:0.05\" id=\"rect\" width=\"1\" height=\"1\" x=\"1.6\" y=\"1.3\"/> <path style=\"fill:#ffd42a;stroke:#000;stroke-width:0.05;stroke-linejoin:round\" d=\"m 1.6 1.3 l 0.3 -0.3 h 1 l -0.3 0.3 z\" id=\"path1\" /> <path style=\"fill:#d4aa00;stroke:#000;stroke-width:0.05;stroke-linejoin:round\" d=\"m 1.6 1.3 m 1 0 l 0.3 -0.3 v 1 l -0.3 0.3 z\" id=\"path2\" /><rect style=\"fill:#ffe680;fill-opacity:1;stroke:#000;stroke-width:0.05\" id=\"rect\" width=\"1\" height=\"1\" x=\"2.6\" y=\"1.3\"/> <path style=\"fill:#ffd42a;stroke:#000;stroke-width:0.05;stroke-linejoin:round\" d=\"m 2.6 1.3 l 0.3 -0.3 h 1 l -0.3 0.3 z\" id=\"path1\" /> <path style=\"fill:#d4aa00;stroke:#000;stroke-width:0.05;stroke-linejoin:round\" d=\"m 2.6 1.3 m 1 0 l 0.3 -0.3 v 1 l -0.3 0.3 z\" id=\"path2\" /><rect style=\"fill:#ffe680;fill-opacity:1;stroke:#000;stroke-width:0.05\" id=\"rect\" width=\"1\" height=\"1\" x=\"3.6\" y=\"1.3\"/> <path style=\"fill:#ffd42a;stroke:#000;stroke-width:0.05;stroke-linejoin:round\" d=\"m 3.6 1.3 l 0.3 -0.3 h 1 l -0.3 0.3 z\" id=\"path1\" /> <path style=\"fill:#d4aa00;stroke:#000;stroke-width:0.05;stroke-linejoin:round\" d=\"m 3.6 1.3 m 1 0 l 0.3 -0.3 v 1 l -0.3 0.3 z\" id=\"path2\" /><rect style=\"fill:#ffe680;fill-opacity:1;stroke:#000;stroke-width:0.05\" id=\"rect\" width=\"1\" height=\"1\" x=\"4.6\" y=\"1.3\"/> <path style=\"fill:#ffd42a;stroke:#000;stroke-width:0.05;stroke-linejoin:round\" d=\"m 4.6 1.3 l 0.3 -0.3 h 1 l -0.3 0.3 z\" id=\"path1\" /> <path style=\"fill:#d4aa00;stroke:#000;stroke-width:0.05;stroke-linejoin:round\" d=\"m 4.6 1.3 m 1 0 l 0.3 -0.3 v 1 l -0.3 0.3 z\" id=\"path2\" /></g><g><title>values</title><rect style=\"fill:#ffe680;fill-opacity:1;stroke:#000;stroke-width:0.05\" id=\"rect\" width=\"1\" height=\"1\" x=\"1.0\" y=\"2.9\"/> <path style=\"fill:#ffd42a;stroke:#000;stroke-width:0.05;stroke-linejoin:round\" d=\"m 1.0 2.9 l 0.3 -0.3 h 1 l -0.3 0.3 z\" id=\"path1\" /> <path style=\"fill:#d4aa00;stroke:#000;stroke-width:0.05;stroke-linejoin:round\" d=\"m 1.0 2.9 m 1 0 l 0.3 -0.3 v 1 l -0.3 0.3 z\" id=\"path2\" /><rect style=\"fill:#ffe680;fill-opacity:1;stroke:#000;stroke-width:0.05\" id=\"rect\" width=\"1\" height=\"1\" x=\"2.0\" y=\"2.9\"/> <path style=\"fill:#ffd42a;stroke:#000;stroke-width:0.05;stroke-linejoin:round\" d=\"m 2.0 2.9 l 0.3 -0.3 h 1 l -0.3 0.3 z\" id=\"path1\" /> <path style=\"fill:#d4aa00;stroke:#000;stroke-width:0.05;stroke-linejoin:round\" d=\"m 2.0 2.9 m 1 0 l 0.3 -0.3 v 1 l -0.3 0.3 z\" id=\"path2\" /><rect style=\"fill:#ffe680;fill-opacity:1;stroke:#000;stroke-width:0.05\" id=\"rect\" width=\"1\" height=\"1\" x=\"3.0\" y=\"2.9\"/> <path style=\"fill:#ffd42a;stroke:#000;stroke-width:0.05;stroke-linejoin:round\" d=\"m 3.0 2.9 l 0.3 -0.3 h 1 l -0.3 0.3 z\" id=\"path1\" /> <path style=\"fill:#d4aa00;stroke:#000;stroke-width:0.05;stroke-linejoin:round\" d=\"m 3.0 2.9 m 1 0 l 0.3 -0.3 v 1 l -0.3 0.3 z\" id=\"path2\" /><rect style=\"fill:#ffe680;fill-opacity:1;stroke:#000;stroke-width:0.05\" id=\"rect\" width=\"1\" height=\"1\" x=\"4.0\" y=\"2.9\"/> <path style=\"fill:#ffd42a;stroke:#000;stroke-width:0.05;stroke-linejoin:round\" d=\"m 4.0 2.9 l 0.3 -0.3 h 1 l -0.3 0.3 z\" id=\"path1\" /> <path style=\"fill:#d4aa00;stroke:#000;stroke-width:0.05;stroke-linejoin:round\" d=\"m 4.0 2.9 m 1 0 l 0.3 -0.3 v 1 l -0.3 0.3 z\" id=\"path2\" /><rect style=\"fill:#ffe680;fill-opacity:1;stroke:#000;stroke-width:0.05\" id=\"rect\" width=\"1\" height=\"1\" x=\"1.0\" y=\"1.9\"/> <path style=\"fill:#ffd42a;stroke:#000;stroke-width:0.05;stroke-linejoin:round\" d=\"m 1.0 1.9 l 0.3 -0.3 h 1 l -0.3 0.3 z\" id=\"path1\" /> <path style=\"fill:#d4aa00;stroke:#000;stroke-width:0.05;stroke-linejoin:round\" d=\"m 1.0 1.9 m 1 0 l 0.3 -0.3 v 1 l -0.3 0.3 z\" id=\"path2\" /><rect style=\"fill:#ffe680;fill-opacity:1;stroke:#000;stroke-width:0.05\" id=\"rect\" width=\"1\" height=\"1\" x=\"2.0\" y=\"1.9\"/> <path style=\"fill:#ffd42a;stroke:#000;stroke-width:0.05;stroke-linejoin:round\" d=\"m 2.0 1.9 l 0.3 -0.3 h 1 l -0.3 0.3 z\" id=\"path1\" /> <path style=\"fill:#d4aa00;stroke:#000;stroke-width:0.05;stroke-linejoin:round\" d=\"m 2.0 1.9 m 1 0 l 0.3 -0.3 v 1 l -0.3 0.3 z\" id=\"path2\" /><rect style=\"fill:#ffe680;fill-opacity:1;stroke:#000;stroke-width:0.05\" id=\"rect\" width=\"1\" height=\"1\" x=\"3.0\" y=\"1.9\"/> <path style=\"fill:#ffd42a;stroke:#000;stroke-width:0.05;stroke-linejoin:round\" d=\"m 3.0 1.9 l 0.3 -0.3 h 1 l -0.3 0.3 z\" id=\"path1\" /> <path style=\"fill:#d4aa00;stroke:#000;stroke-width:0.05;stroke-linejoin:round\" d=\"m 3.0 1.9 m 1 0 l 0.3 -0.3 v 1 l -0.3 0.3 z\" id=\"path2\" /><rect style=\"fill:#ffe680;fill-opacity:1;stroke:#000;stroke-width:0.05\" id=\"rect\" width=\"1\" height=\"1\" x=\"4.0\" y=\"1.9\"/> <path style=\"fill:#ffd42a;stroke:#000;stroke-width:0.05;stroke-linejoin:round\" d=\"m 4.0 1.9 l 0.3 -0.3 h 1 l -0.3 0.3 z\" id=\"path1\" /> <path style=\"fill:#d4aa00;stroke:#000;stroke-width:0.05;stroke-linejoin:round\" d=\"m 4.0 1.9 m 1 0 l 0.3 -0.3 v 1 l -0.3 0.3 z\" id=\"path2\" /></g></g></svg>"
      ],
      "text/plain": [
       "<IPython.core.display.HTML object>"
      ]
     },
     "metadata": {},
     "output_type": "display_data"
    }
   ],
   "source": [
    "sc.show(a[Dim.X, 1])\n",
    "sc.show(a[Dim.Y, 1])\n",
    "sc.show(a[Dim.X, 1] + a[Dim.Y, 1])"
   ]
  },
  {
   "cell_type": "markdown",
   "metadata": {},
   "source": [
    "Note that in-place operations such as `+=` will never change the shape of the left-hand-side.\n",
    "That is only the right-hand-side operation can be broadcast, and the operation fails of a broadcast of the left-hand-side would be required.\n",
    "\n",
    "Units are required to be compatible:"
   ]
  },
  {
   "cell_type": "code",
   "execution_count": 8,
   "metadata": {},
   "outputs": [
    {
     "name": "stdout",
     "output_type": "stream",
     "text": [
      "Expected m to be equal to s.\n"
     ]
    }
   ],
   "source": [
    "try:\n",
    "    a + b\n",
    "except Exception as e:\n",
    "    print(str(e))"
   ]
  },
  {
   "cell_type": "markdown",
   "metadata": {},
   "source": [
    "Data items are paired based on their names when applying operations to datasets.\n",
    "Operations fail if names do not match:\n",
    "\n",
    "- In-place operations such as `+=` accept a right-hand-side operand that misses items that the left-hand-side has.\n",
    "  If the right-hand-side contains items that are not in the left-hand-side the operation fails.\n",
    "- Non-in-place operations such as `+` return a new dataset with items from the intersection of the inputs.\n",
    "\n",
    "Coords and labels are compared in operations with datasets (or items of datasets).\n",
    "Operations fail if there is any mismatch in coord or label values."
   ]
  },
  {
   "cell_type": "code",
   "execution_count": null,
   "metadata": {},
   "outputs": [],
   "source": [
    "d1 = sc.Dataset(\n",
    "    {'a': sc.Variable(dims=[Dim.X, Dim.Y], values=np.random.rand(2, 3)),\n",
    "     'b': sc.Variable(dims=[Dim.Y, Dim.X], values=np.random.rand(3, 2)),\n",
    "     'c': sc.Variable(dims=[Dim.X], values=np.random.rand(2)),\n",
    "     'd': sc.Variable(1.0)},\n",
    "    coords={\n",
    "        Dim.X: sc.Variable([Dim.X], values=np.arange(2.0), unit=sc.units.m),\n",
    "        Dim.Y: sc.Variable([Dim.Y], values=np.arange(3.0), unit=sc.units.m)})\n",
    "d2 = sc.Dataset(\n",
    "    {'a': sc.Variable(dims=[Dim.X, Dim.Y], values=np.random.rand(2, 3)),\n",
    "     'b': sc.Variable(dims=[Dim.Y, Dim.X], values=np.random.rand(3, 2))},\n",
    "    coords={\n",
    "        Dim.X: sc.Variable([Dim.X], values=np.arange(2.0), unit=sc.units.m),\n",
    "        Dim.Y: sc.Variable([Dim.Y], values=np.arange(3.0), unit=sc.units.m)})"
   ]
  },
  {
   "cell_type": "code",
   "execution_count": 21,
   "metadata": {},
   "outputs": [],
   "source": [
    "d1 += d2"
   ]
  },
  {
   "cell_type": "code",
   "execution_count": 19,
   "metadata": {},
   "outputs": [
    {
     "name": "stdout",
     "output_type": "stream",
     "text": [
      "Could not find data with name c.\n"
     ]
    }
   ],
   "source": [
    "try:\n",
    "    d2 += d1\n",
    "except Exception as e:\n",
    "    print(str(e))"
   ]
  },
  {
   "cell_type": "code",
   "execution_count": 23,
   "metadata": {},
   "outputs": [
    {
     "name": "stdout",
     "output_type": "stream",
     "text": [
      "a\n",
      "b\n"
     ]
    }
   ],
   "source": [
    "d3 = d1 + d2\n",
    "for name, _ in d3:\n",
    "    print(name)"
   ]
  },
  {
   "cell_type": "code",
   "execution_count": 20,
   "metadata": {},
   "outputs": [
    {
     "name": "stdout",
     "output_type": "stream",
     "text": [
      "Expected coords to match.\n"
     ]
    }
   ],
   "source": [
    "d['a'] -= d['b'] # transposing\n",
    "d['a'] -= d[Dim.X, 1]['b'] # broadcasting\n",
    "try:\n",
    "    d['a'] -= d[Dim.X, 1:2]['b'] # fail due to coordinate mismatch\n",
    "except Exception as e:\n",
    "    print(str(e))"
   ]
  }
 ],
 "metadata": {
  "kernelspec": {
   "display_name": "Python 3",
   "language": "python",
   "name": "python3"
  },
  "language_info": {
   "codemirror_mode": {
    "name": "ipython",
    "version": 3
   },
   "file_extension": ".py",
   "mimetype": "text/x-python",
   "name": "python",
   "nbconvert_exporter": "python",
   "pygments_lexer": "ipython3",
   "version": "3.6.7"
  }
 },
 "nbformat": 4,
 "nbformat_minor": 2
}

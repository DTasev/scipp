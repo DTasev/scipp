{
 "cells": [
  {
   "cell_type": "markdown",
   "metadata": {},
   "source": [
    "# Dataset in a Nutshell - Part 2: Multi-dimensional datasets\n",
    "\n",
    " This is the continuation of [Dataset in a Nutshell - Part 1](demo-part1.ipynb).\n",
    "\n",
    " ## Creation, slicing, and visualization"
   ]
  },
  {
   "cell_type": "code",
   "execution_count": null,
   "metadata": {},
   "outputs": [],
   "source": [
    "import numpy as np\n",
    "\n",
    "import dataset as ds\n",
    "from dataset import Dim, Coord, Data, Attr"
   ]
  },
  {
   "cell_type": "markdown",
   "metadata": {},
   "source": [
    "To create variables with more than one dimension we specify a list of dimension labels and provide data with a corresponding shape. When inserted into a dataset it is important to note that while the dimensions extents have to match, individual variables may have transposed memory layout."
   ]
  },
  {
   "cell_type": "code",
   "execution_count": null,
   "metadata": {},
   "outputs": [],
   "source": [
    "d = ds.Dataset()\n",
    "d[Coord.X] = ([Dim.X], np.arange(11.0))\n",
    "d[Coord.Y] = ([Dim.Y], np.arange(11.0))\n",
    "d[Coord.Z] = ([Dim.Z], np.arange(11.0))\n",
    "d[Data.Value, \"alice\"] = ([Dim.Z, Dim.Y, Dim.X], np.random.rand(10, 10, 10))\n",
    "d[Data.Variance, \"alice\"] = d[Data.Value, \"alice\"]\n",
    "d[Data.Value, \"bob\"] = ([Dim.X, Dim.Z], np.arange(0.0, 10.0, 0.1).reshape(10, 10))\n",
    "d[Data.Variance, \"bob\"] = d[Data.Value, \"bob\"]"
   ]
  },
  {
   "cell_type": "markdown",
   "metadata": {},
   "source": [
    "Note that in this example the coordinates are exceeding the shape of the data by 1.\n",
    " This means that the coordinates represent bin edges:"
   ]
  },
  {
   "cell_type": "code",
   "execution_count": null,
   "metadata": {},
   "outputs": [],
   "source": [
    "d"
   ]
  },
  {
   "cell_type": "markdown",
   "metadata": {},
   "source": [
    "To slice in multiple dimensions, we can simply chain the slicing notation used previously for 1D data.\n",
    " This gives us a number of different options for visualizing our data:"
   ]
  },
  {
   "cell_type": "code",
   "execution_count": null,
   "metadata": {},
   "outputs": [],
   "source": [
    "ds.table(d[Dim.X, 5][Dim.Z, 2])"
   ]
  },
  {
   "cell_type": "code",
   "execution_count": null,
   "metadata": {},
   "outputs": [],
   "source": [
    "ds.plot(d.subset[Data.Value, 'bob'])"
   ]
  },
  {
   "cell_type": "code",
   "execution_count": null,
   "metadata": {},
   "outputs": [],
   "source": [
    "ds.plot(d.subset[Data.Value, 'alice'])"
   ]
  },
  {
   "cell_type": "code",
   "execution_count": null,
   "metadata": {},
   "outputs": [],
   "source": [
    "ds.plot(d[Dim.X, 8][Dim.Y, 2])"
   ]
  },
  {
   "cell_type": "markdown",
   "metadata": {},
   "source": [
    "Note that this is now plotted as a histogram since the coordinate in the dataset is bin edges, in contrast to the 1D data plotted in part 1."
   ]
  },
  {
   "cell_type": "markdown",
   "metadata": {},
   "source": [
    "Operations automatically broadcast based on dimension labels. In contrast to `numpy` or `MATLAB` there is no need to keep track of dimension order."
   ]
  },
  {
   "cell_type": "code",
   "execution_count": null,
   "metadata": {},
   "outputs": [],
   "source": [
    "d.subset['alice'] -= d.subset['bob']\n",
    "d.subset['alice'] -= d.subset['alice'][Dim.Y, 5]\n",
    "ds.plot(d.subset[Data.Value, 'alice'])"
   ]
  },
  {
   "cell_type": "markdown",
   "metadata": {
    "solution2": "hidden",
    "solution2_first": true
   },
   "source": [
    "### Exercise 1\n",
    "\n",
    " Remove the surface layer of the volume, i.e., remove the first and last slice in each of the dimensions."
   ]
  },
  {
   "cell_type": "code",
   "execution_count": null,
   "metadata": {
    "solution2": "hidden"
   },
   "outputs": [],
   "source": [
    "d = d[Dim.X, 1:-1][Dim.Y, 1:-1][Dim.Z, 1:-1].copy()\n",
    "d"
   ]
  },
  {
   "cell_type": "markdown",
   "metadata": {
    "solution2": "hidden"
   },
   "source": [
    "Note the important call to `copy()`.\n",
    "If we omit it, `d` will just be a multi-dimensional slice of the larger volume (which is kept alive), wasting memory and preventing further modification, such as insertion of other variables."
   ]
  },
  {
   "cell_type": "markdown",
   "metadata": {},
   "source": [
    "## More advanced operations with multi-dimensional dataset\n",
    "Operations like `concatenate` and `sort` work just like with one-dimensional datasets."
   ]
  },
  {
   "cell_type": "markdown",
   "metadata": {
    "solution2": "hidden",
    "solution2_first": true
   },
   "source": [
    "### Exercise 2\n",
    "- Try to concatenate the dataset with itself along the X dimensions. Why does this fail?\n",
    "- Make a copy of the dataset, add an offset to the X coordinate to fix the issue, and try to concatenate again."
   ]
  },
  {
   "cell_type": "code",
   "execution_count": null,
   "metadata": {
    "solution2": "hidden"
   },
   "outputs": [],
   "source": [
    "try:\n",
    "    d = ds.concatenate(d, d, Dim.X)\n",
    "except RuntimeError:\n",
    "    print(\"Failed as expected!\")"
   ]
  },
  {
   "cell_type": "markdown",
   "metadata": {
    "solution2": "hidden"
   },
   "source": [
    "With a data extent of, e.g. `8` in this case, bin edges have extent `9`.\n",
    "Naive concatenation would thus lead a new data extent of `16` and a coordinate extent of `18`, which is meaningless and thus prevented.\n",
    "In this `concatenate` merges the last edge of the first input with the first edge of the second input, if compatible."
   ]
  },
  {
   "cell_type": "code",
   "execution_count": null,
   "metadata": {
    "scrolled": true,
    "solution2": "hidden"
   },
   "outputs": [],
   "source": [
    "offset = d.copy()\n",
    "offset[Coord.X] += ds.Variable(8.0, unit=ds.units.m)\n",
    "combined = ds.concatenate(d, offset, Dim.X)\n",
    "ds.plot(combined.subset[Data.Value, 'alice'])"
   ]
  },
  {
   "cell_type": "markdown",
   "metadata": {},
   "source": [
    "Another available operation is `rebin`.\n",
    " This is only for count-data or count-density-data, so we have to set an appropriate unit first:"
   ]
  },
  {
   "cell_type": "code",
   "execution_count": null,
   "metadata": {},
   "outputs": [],
   "source": [
    "new_x = ds.Variable(Coord.X, [Dim.X], d[Coord.X].numpy[::2])\n",
    "d[Data.Value, 'alice'].unit = ds.units.counts\n",
    "d[Data.Variance, 'alice'].unit = ds.units.counts *  ds.units.counts\n",
    "d[Data.Value, 'bob'].unit = ds.units.counts\n",
    "d[Data.Variance, 'bob'].unit = ds.units.counts *  ds.units.counts\n",
    "d = ds.rebin(d, new_x)\n",
    "d"
   ]
  },
  {
   "cell_type": "markdown",
   "metadata": {},
   "source": [
    "## Interaction with `numpy`\n",
    " Variable in a dataset are exposed in a `numpy`-compatible buffer format, so we can directly hand them to `numpy` functions."
   ]
  },
  {
   "cell_type": "code",
   "execution_count": null,
   "metadata": {},
   "outputs": [],
   "source": [
    "d[Data.Value, 'alice'] = np.sin(d[Data.Value, 'alice'])"
   ]
  },
  {
   "cell_type": "markdown",
   "metadata": {},
   "source": [
    "Direct access to the `numpy`-like underlying data array is possible using the `numpy` property. This is now a multi-dimensional array:"
   ]
  },
  {
   "cell_type": "code",
   "execution_count": null,
   "metadata": {},
   "outputs": [],
   "source": [
    "d[Data.Value, 'alice'].numpy"
   ]
  },
  {
   "cell_type": "markdown",
   "metadata": {
    "solution2": "hidden",
    "solution2_first": true
   },
   "source": [
    "### Exercise 3\n",
    " 1. Use `ds.mean` to compute the mean of the data for Alice along the Z dimension.\n",
    " 2. Do the same with `numpy`, what are the complications you encounter, that are not present when using the dataset?"
   ]
  },
  {
   "cell_type": "code",
   "execution_count": null,
   "metadata": {
    "scrolled": true,
    "solution2": "hidden"
   },
   "outputs": [],
   "source": [
    "help(ds.mean)"
   ]
  },
  {
   "cell_type": "code",
   "execution_count": null,
   "metadata": {
    "scrolled": true,
    "solution2": "hidden"
   },
   "outputs": [],
   "source": [
    "mean = ds.mean(d.subset['alice'], Dim.Z)"
   ]
  },
  {
   "cell_type": "markdown",
   "metadata": {
    "solution2": "hidden"
   },
   "source": [
    "When using `numpy` to compute the mean:\n",
    "- We must remember (or lookup) which dimension corresponds to the Z dimensions.\n",
    "- We need a separate call for values and variances.\n",
    "- We need to manually scale the variance with the inverse square of the number of data points to get the variance of the mean."
   ]
  },
  {
   "cell_type": "code",
   "execution_count": null,
   "metadata": {
    "solution2": "hidden"
   },
   "outputs": [],
   "source": [
    "np_value = np.mean(d[Data.Value, 'alice'], axis=0)\n",
    "np_variance = np.mean(d[Data.Variance, 'alice'], axis=0)\n",
    "np_variance /= np.sqrt(d.dimensions[Dim.Z])"
   ]
  },
  {
   "cell_type": "markdown",
   "metadata": {},
   "source": [
    "Continue to [Dataset in a Nutshell - Part 3](demo-part3.ipynb) to see how datasets are used with neutron-event data."
   ]
  },
  {
   "cell_type": "code",
   "execution_count": null,
   "metadata": {
    "solution2": "hidden"
   },
   "outputs": [],
   "source": [
    "help(ds.mean)"
   ]
  },
  {
   "cell_type": "code",
   "execution_count": null,
   "metadata": {
    "solution2": "hidden"
   },
   "outputs": [],
   "source": [
    "mean = ds.mean(d.subset['alice'], Dim.Z)"
   ]
  },
  {
   "cell_type": "markdown",
   "metadata": {
    "solution2": "hidden"
   },
   "source": [
    "When using `numpy` to compute the mean:\n",
    " - We must remember (or lookup) which dimension corresponds to the Z dimensions.\n",
    " - We need a separate call for values and variances.\n",
    " - We need to manually scale the variance with the inverse square of the number of data points to get the variance of the mean."
   ]
  },
  {
   "cell_type": "code",
   "execution_count": null,
   "metadata": {
    "solution2": "hidden"
   },
   "outputs": [],
   "source": [
    "np_value = np.mean(d[Data.Value, 'alice'], axis=0)\n",
    "np_variance = np.mean(d[Data.Variance, 'alice'], axis=0)\n",
    "np_variance /= np.sqrt(d.dimensions[Dim.Z])"
   ]
  }
 ],
 "metadata": {
  "kernelspec": {
   "display_name": "Python 3",
   "language": "python",
   "name": "python3"
  },
  "language_info": {
   "codemirror_mode": {
    "name": "ipython",
    "version": 3
   },
   "file_extension": ".py",
   "mimetype": "text/x-python",
   "name": "python",
   "nbconvert_exporter": "python",
   "pygments_lexer": "ipython3",
   "version": "3.6.7"
  }
 },
 "nbformat": 4,
 "nbformat_minor": 2
}

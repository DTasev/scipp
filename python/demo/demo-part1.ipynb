{
 "cells": [
  {
   "cell_type": "markdown",
   "metadata": {},
   "source": [
    "# Dataset in a Nutshell\n",
    " This demonstrates key functionality and usage of the `dataset` library.\n",
    "\n",
    "## Getting started\n",
    "### What is a `Dataset`?\n",
    "There are two basic analogies to aid in thinking about a `Dataset`:\n",
    "1. As a `dict` of `numpy.ndarray`s, with the addition of named dimensions and units.\n",
    "2. As a table.\n",
    "\n",
    "### Creating a dataset"
   ]
  },
  {
   "cell_type": "code",
   "execution_count": 1,
   "metadata": {},
   "outputs": [],
   "source": [
    "import numpy as np"
   ]
  },
  {
   "cell_type": "code",
   "execution_count": 2,
   "metadata": {},
   "outputs": [],
   "source": [
    "import sys\n",
    "sys.path.append('/home/nvaytet/work/code/scipp/install/')\n",
    "import scipp as sc"
   ]
  },
  {
   "cell_type": "code",
   "execution_count": 3,
   "metadata": {},
   "outputs": [
    {
     "data": {
      "text/plain": [
       "<scipp.Dataset>\n",
       "Dimensions: {}\n",
       "Coordinates:\n",
       "Labels:\n",
       "Data:\n",
       "Attributes:\n"
      ]
     },
     "execution_count": 3,
     "metadata": {},
     "output_type": "execute_result"
    }
   ],
   "source": [
    "d = sc.Dataset()\n",
    "d"
   ]
  },
  {
   "cell_type": "markdown",
   "metadata": {},
   "source": [
    "## Using `Dataset` as a table\n",
    "We can not only think about a dataset as a table, we can also use it as one.\n",
    "This will demonstrate the basic ways of creating datasets and interacting with them."
   ]
  },
  {
   "cell_type": "code",
   "execution_count": 4,
   "metadata": {},
   "outputs": [
    {
     "data": {
      "text/plain": [
       "<scipp.Dataset>\n",
       "Dimensions: {{Dim.Row, 3}}\n",
       "Coordinates:\n",
       "    Dim.Row                   int64     [dimensionless]  (Dim.Row)  [0, 1, 2]\n",
       "Labels:\n",
       "Data:\n",
       "    alice                     double    [m]              (Dim.Row)  [1.000000, 1.100000, 1.200000]  [0.010000, 0.010000, 0.020000]\n",
       "Attributes:\n"
      ]
     },
     "execution_count": 4,
     "metadata": {},
     "output_type": "execute_result"
    }
   ],
   "source": [
    "d.set_coord(sc.Dim.Row, sc.Variable([sc.Dim.Row], values=np.arange(3)))\n",
    "d[\"alice\"] = sc.Variable([sc.Dim.Row], values=[1.0,1.1,1.2], variances=[0.01,0.01,0.02], unit=sc.units.m)\n",
    "d"
   ]
  },
  {
   "cell_type": "markdown",
   "metadata": {},
   "source": [
    "The datatype (`dtype`) is derived from the provided data, so passing `np.arange(3)` will yield a variable (column) containing 64-bit integers.\n",
    "\n",
    "Datasets with up to one dimension can be displayed as a simple table:"
   ]
  },
  {
   "cell_type": "code",
   "execution_count": 5,
   "metadata": {},
   "outputs": [
    {
     "data": {
      "text/html": [
       "<h3>Dataset</h3><h6 style='font-weight: normal; color: grey'>1D Variables</h6><table style='border-collapse: collapse;'><tr><th style='text-align: center;border: 1px solid black;background-color: #ADF3E0;' colspan='1'>Coord: Row</th><th style='text-align: center;border: 1px solid black;' colspan='2'>alice [m]</th></tr><tr><th style='border: 1px solid black;background-color: #B9FFEC;'>Values</th><th style='border: 1px solid black;'>Values</th><th style='border: 1px solid black;'>Variances</th></tr><tr><td style='border: 1px solid black;background-color: #ADF3E0;'>0</td><td style='border: 1px solid black;'>1.0</td><td style='border: 1px solid black;'>0.01</td></tr><tr><td style='border: 1px solid black;background-color: #B9FFEC;'>1</td><td style='border: 1px solid black;'>1.1</td><td style='border: 1px solid black;'>0.01</td></tr><tr><td style='border: 1px solid black;background-color: #ADF3E0;'>2</td><td style='border: 1px solid black;'>1.2</td><td style='border: 1px solid black;'>0.02</td></tr></table>"
      ],
      "text/plain": [
       "<IPython.core.display.HTML object>"
      ]
     },
     "metadata": {},
     "output_type": "display_data"
    }
   ],
   "source": [
    "sc.table(d)"
   ]
  },
  {
   "cell_type": "markdown",
   "metadata": {},
   "source": [
    "A variable (column) in a dataset (table) is identified by its name (`\"alice\"`). A 1D variable will have a coordinate (`Row`), and holds `Values` and optionally `Variances` which are grouped together inside a common structure.\n",
    "\n",
    "Each variable (column) comes with a physical unit attached to it, which we should set up correctly as early as possible."
   ]
  },
  {
   "cell_type": "code",
   "execution_count": 6,
   "metadata": {},
   "outputs": [
    {
     "data": {
      "text/html": [
       "<h3>Dataset</h3><h6 style='font-weight: normal; color: grey'>1D Variables</h6><table style='border-collapse: collapse;'><tr><th style='text-align: center;border: 1px solid black;background-color: #ADF3E0;' colspan='1'>Coord: Row</th><th style='text-align: center;border: 1px solid black;' colspan='2'>alice [m]</th></tr><tr><th style='border: 1px solid black;background-color: #B9FFEC;'>Values</th><th style='border: 1px solid black;'>Values</th><th style='border: 1px solid black;'>Variances</th></tr><tr><td style='border: 1px solid black;background-color: #ADF3E0;'>0</td><td style='border: 1px solid black;'>1.0</td><td style='border: 1px solid black;'>0.01</td></tr><tr><td style='border: 1px solid black;background-color: #B9FFEC;'>1</td><td style='border: 1px solid black;'>1.1</td><td style='border: 1px solid black;'>0.01</td></tr><tr><td style='border: 1px solid black;background-color: #ADF3E0;'>2</td><td style='border: 1px solid black;'>1.2</td><td style='border: 1px solid black;'>0.02</td></tr></table>"
      ],
      "text/plain": [
       "<IPython.core.display.HTML object>"
      ]
     },
     "metadata": {},
     "output_type": "display_data"
    }
   ],
   "source": [
    "d[\"alice\"].unit = sc.units.m\n",
    "sc.table(d)"
   ]
  },
  {
   "cell_type": "markdown",
   "metadata": {},
   "source": [
    "Setting the units can also be done when constructing the `Variable` by using the `units` keyword argument"
   ]
  },
  {
   "cell_type": "code",
   "execution_count": 7,
   "metadata": {},
   "outputs": [
    {
     "data": {
      "text/html": [
       "<h3>Dataset</h3><h6 style='font-weight: normal; color: grey'>1D Variables</h6><table style='border-collapse: collapse;'><tr><th style='text-align: center;border: 1px solid black;background-color: #ADF3E0;' colspan='1'>Coord: Row</th><th style='text-align: center;border: 1px solid black;' colspan='2'>alice [m]</th></tr><tr><th style='border: 1px solid black;background-color: #B9FFEC;'>Values</th><th style='border: 1px solid black;'>Values</th><th style='border: 1px solid black;'>Variances</th></tr><tr><td style='border: 1px solid black;background-color: #ADF3E0;'>0</td><td style='border: 1px solid black;'>1.0</td><td style='border: 1px solid black;'>0.01</td></tr><tr><td style='border: 1px solid black;background-color: #B9FFEC;'>1</td><td style='border: 1px solid black;'>1.1</td><td style='border: 1px solid black;'>0.01</td></tr><tr><td style='border: 1px solid black;background-color: #ADF3E0;'>2</td><td style='border: 1px solid black;'>1.2</td><td style='border: 1px solid black;'>0.02</td></tr></table>"
      ],
      "text/plain": [
       "<IPython.core.display.HTML object>"
      ]
     },
     "metadata": {},
     "output_type": "display_data"
    }
   ],
   "source": [
    "d[\"alice\"] = sc.Variable([sc.Dim.Row], values=[1.0,1.1,1.2], variances=[0.01,0.01,0.02], unit=sc.units.m)\n",
    "sc.table(d)"
   ]
  },
  {
   "cell_type": "markdown",
   "metadata": {},
   "source": [
    "Units and uncertainties are handled automatically in operations."
   ]
  },
  {
   "cell_type": "code",
   "execution_count": 8,
   "metadata": {},
   "outputs": [
    {
     "data": {
      "text/html": [
       "<h3>Dataset</h3><h6 style='font-weight: normal; color: grey'>1D Variables</h6><table style='border-collapse: collapse;'><tr><th style='text-align: center;border: 1px solid black;background-color: #ADF3E0;' colspan='1'>Coord: Row</th><th style='text-align: center;border: 1px solid black;' colspan='2'>alice [m^2]</th></tr><tr><th style='border: 1px solid black;background-color: #B9FFEC;'>Values</th><th style='border: 1px solid black;'>Values</th><th style='border: 1px solid black;'>Variances</th></tr><tr><td style='border: 1px solid black;background-color: #ADF3E0;'>0</td><td style='border: 1px solid black;'>1.0</td><td style='border: 1px solid black;'>0.02</td></tr><tr><td style='border: 1px solid black;background-color: #B9FFEC;'>1</td><td style='border: 1px solid black;'>1.210</td><td style='border: 1px solid black;'>0.024</td></tr><tr><td style='border: 1px solid black;background-color: #ADF3E0;'>2</td><td style='border: 1px solid black;'>1.44</td><td style='border: 1px solid black;'>0.058</td></tr></table>"
      ],
      "text/plain": [
       "<IPython.core.display.HTML object>"
      ]
     },
     "metadata": {},
     "output_type": "display_data"
    }
   ],
   "source": [
    "d *= d\n",
    "sc.table(d)"
   ]
  },
  {
   "cell_type": "markdown",
   "metadata": {},
   "source": [
    "Operations between columns are supported by indexing into a dataset with a name."
   ]
  },
  {
   "cell_type": "code",
   "execution_count": 9,
   "metadata": {},
   "outputs": [
    {
     "data": {
      "text/plain": [
       "<scipp.Dataset>\n",
       "Dimensions: {{Dim.Row, 3}}\n",
       "Coordinates:\n",
       "    Dim.Row                   int64     [dimensionless]  (Dim.Row)  [0, 1, 2]\n",
       "Labels:\n",
       "Data:\n",
       "    alice                     double    [m^2]            (Dim.Row)  [1.000000, 1.210000, 1.440000]  [0.020000, 0.024200, 0.057600]\n",
       "    bob                       double    [m^2]            (Dim.Row)  [1.000000, 1.210000, 1.440000]  [0.020000, 0.024200, 0.057600]\n",
       "Attributes:\n"
      ]
     },
     "execution_count": 9,
     "metadata": {},
     "output_type": "execute_result"
    }
   ],
   "source": [
    "d[\"bob\"] = d[\"alice\"]\n",
    "d"
   ]
  },
  {
   "cell_type": "code",
   "execution_count": 10,
   "metadata": {},
   "outputs": [
    {
     "data": {
      "text/html": [
       "<h3>Dataset</h3><h6 style='font-weight: normal; color: grey'>1D Variables</h6><table style='border-collapse: collapse;'><tr><th style='text-align: center;border: 1px solid black;background-color: #ADF3E0;' colspan='1'>Coord: Row</th><th style='text-align: center;border: 1px solid black;' colspan='2'>alice [m^2]</th><th style='text-align: center;border: 1px solid black;' colspan='2'>bob [m^2]</th></tr><tr><th style='border: 1px solid black;background-color: #B9FFEC;'>Values</th><th style='border: 1px solid black;'>Values</th><th style='border: 1px solid black;'>Variances</th><th style='border: 1px solid black;'>Values</th><th style='border: 1px solid black;'>Variances</th></tr><tr><td style='border: 1px solid black;background-color: #ADF3E0;'>0</td><td style='border: 1px solid black;'>1.0</td><td style='border: 1px solid black;'>0.02</td><td style='border: 1px solid black;'>1.0</td><td style='border: 1px solid black;'>0.02</td></tr><tr><td style='border: 1px solid black;background-color: #B9FFEC;'>1</td><td style='border: 1px solid black;'>1.210</td><td style='border: 1px solid black;'>0.024</td><td style='border: 1px solid black;'>1.210</td><td style='border: 1px solid black;'>0.024</td></tr><tr><td style='border: 1px solid black;background-color: #ADF3E0;'>2</td><td style='border: 1px solid black;'>1.44</td><td style='border: 1px solid black;'>0.058</td><td style='border: 1px solid black;'>1.44</td><td style='border: 1px solid black;'>0.058</td></tr></table>"
      ],
      "text/plain": [
       "<IPython.core.display.HTML object>"
      ]
     },
     "metadata": {},
     "output_type": "display_data"
    }
   ],
   "source": [
    "sc.table(d)"
   ]
  },
  {
   "cell_type": "code",
   "execution_count": 11,
   "metadata": {},
   "outputs": [
    {
     "data": {
      "text/html": [
       "<h3>Dataset</h3><h6 style='font-weight: normal; color: grey'>1D Variables</h6><table style='border-collapse: collapse;'><tr><th style='text-align: center;border: 1px solid black;background-color: #ADF3E0;' colspan='1'>Coord: Row</th><th style='text-align: center;border: 1px solid black;' colspan='2'>alice [m^2]</th><th style='text-align: center;border: 1px solid black;' colspan='2'>bob [m^2]</th></tr><tr><th style='border: 1px solid black;background-color: #B9FFEC;'>Values</th><th style='border: 1px solid black;'>Values</th><th style='border: 1px solid black;'>Variances</th><th style='border: 1px solid black;'>Values</th><th style='border: 1px solid black;'>Variances</th></tr><tr><td style='border: 1px solid black;background-color: #ADF3E0;'>0</td><td style='border: 1px solid black;'>1.0</td><td style='border: 1px solid black;'>0.02</td><td style='border: 1px solid black;'>2.0</td><td style='border: 1px solid black;'>0.04</td></tr><tr><td style='border: 1px solid black;background-color: #B9FFEC;'>1</td><td style='border: 1px solid black;'>1.210</td><td style='border: 1px solid black;'>0.024</td><td style='border: 1px solid black;'>2.420</td><td style='border: 1px solid black;'>0.048</td></tr><tr><td style='border: 1px solid black;background-color: #ADF3E0;'>2</td><td style='border: 1px solid black;'>1.44</td><td style='border: 1px solid black;'>0.058</td><td style='border: 1px solid black;'>2.88</td><td style='border: 1px solid black;'>0.115</td></tr></table>"
      ],
      "text/plain": [
       "<IPython.core.display.HTML object>"
      ]
     },
     "metadata": {},
     "output_type": "display_data"
    }
   ],
   "source": [
    "d[\"bob\"] += d[\"alice\"]\n",
    "sc.table(d)"
   ]
  },
  {
   "cell_type": "code",
   "execution_count": 12,
   "metadata": {},
   "outputs": [
    {
     "data": {
      "application/vnd.jupyter.widget-view+json": {
       "model_id": "607396d7a8a2474e85dd4e8ece95f946",
       "version_major": 2,
       "version_minor": 0
      },
      "text/plain": [
       "FigureWidget({\n",
       "    'data': [{'error_y': {'array': array([0.14142136, 0.15556349, 0.24      ]), 'type': 'data',…"
      ]
     },
     "metadata": {},
     "output_type": "display_data"
    }
   ],
   "source": [
    "sc.plot(d)"
   ]
  },
  {
   "cell_type": "markdown",
   "metadata": {},
   "source": [
    "Operations between rows are supported by indexing into a dataset with a dimension label and an index.\n",
    "\n",
    "Slicing dimensions behaves similar to `numpy`:\n",
    "If a single index is given, the dimension is dropped, if a range is given, the dimension is kept.\n",
    "For a `Dataset`, in the former case the corresponding coordinates are dropped, whereas in the latter case it is preserved."
   ]
  },
  {
   "cell_type": "code",
   "execution_count": 13,
   "metadata": {},
   "outputs": [],
   "source": [
    "a = np.arange(8)"
   ]
  },
  {
   "cell_type": "code",
   "execution_count": 14,
   "metadata": {},
   "outputs": [
    {
     "data": {
      "text/plain": [
       "4"
      ]
     },
     "execution_count": 14,
     "metadata": {},
     "output_type": "execute_result"
    }
   ],
   "source": [
    "a[4]"
   ]
  },
  {
   "cell_type": "code",
   "execution_count": 15,
   "metadata": {},
   "outputs": [
    {
     "data": {
      "text/plain": [
       "array([4])"
      ]
     },
     "execution_count": 15,
     "metadata": {},
     "output_type": "execute_result"
    }
   ],
   "source": [
    "a[4:5]"
   ]
  },
  {
   "cell_type": "code",
   "execution_count": 16,
   "metadata": {},
   "outputs": [
    {
     "data": {
      "text/html": [
       "<h3>Dataset</h3><h6 style='font-weight: normal; color: grey'>1D Variables</h6><table style='border-collapse: collapse;'><tr><th style='text-align: center;border: 1px solid black;background-color: #ADF3E0;' colspan='1'>Coord: Row</th><th style='text-align: center;border: 1px solid black;' colspan='2'>alice [m^2]</th><th style='text-align: center;border: 1px solid black;' colspan='2'>bob [m^2]</th></tr><tr><th style='border: 1px solid black;background-color: #B9FFEC;'>Values</th><th style='border: 1px solid black;'>Values</th><th style='border: 1px solid black;'>Variances</th><th style='border: 1px solid black;'>Values</th><th style='border: 1px solid black;'>Variances</th></tr><tr><td style='border: 1px solid black;background-color: #ADF3E0;'>0</td><td style='border: 1px solid black;'>1.0</td><td style='border: 1px solid black;'>0.02</td><td style='border: 1px solid black;'>2.0</td><td style='border: 1px solid black;'>0.04</td></tr><tr><td style='border: 1px solid black;background-color: #B9FFEC;'>1</td><td style='border: 1px solid black;'>2.650</td><td style='border: 1px solid black;'>0.082</td><td style='border: 1px solid black;'>5.300</td><td style='border: 1px solid black;'>0.164</td></tr><tr><td style='border: 1px solid black;background-color: #ADF3E0;'>2</td><td style='border: 1px solid black;'>1.44</td><td style='border: 1px solid black;'>0.058</td><td style='border: 1px solid black;'>2.88</td><td style='border: 1px solid black;'>0.115</td></tr></table>"
      ],
      "text/plain": [
       "<IPython.core.display.HTML object>"
      ]
     },
     "metadata": {},
     "output_type": "display_data"
    }
   ],
   "source": [
    "d[sc.Dim.Row, 1] += d[sc.Dim.Row, 2]\n",
    "sc.table(d)"
   ]
  },
  {
   "cell_type": "markdown",
   "metadata": {},
   "source": [
    "Note the key advantage over `numpy` or `MATLAB`:\n",
    "We specify the index dimension, so we always know which dimension we are slicing.\n",
    "The advantage is not so apparent in 1D, but will become clear once we move to higher-dimensional data."
   ]
  },
  {
   "cell_type": "markdown",
   "metadata": {},
   "source": [
    "### Summary\n",
    "There is a number of ways to select and operate on a single row, a range of rows, a single variable (column) or multiple variables (columns) of a dataset: "
   ]
  },
  {
   "cell_type": "code",
   "execution_count": 17,
   "metadata": {
    "code_folding": [],
    "scrolled": false
   },
   "outputs": [
    {
     "data": {
      "text/html": [
       "<h3>DatasetProxy</h3><h6 style='font-weight: normal; color: grey'>0D Variables</h6><table style='border-collapse: collapse;'><tr><th style='text-align: center;border: 1px solid black;' colspan='2'>alice [m^2]</th><th style='text-align: center;border: 1px solid black;' colspan='2'>bob [m^2]</th></tr><tr><th style='border: 1px solid black;'>Values</th><th style='border: 1px solid black;'>Variances</th><th style='border: 1px solid black;'>Values</th><th style='border: 1px solid black;'>Variances</th></tr><tr><td style='border: 1px solid black;'>1.0</td><td style='border: 1px solid black;'>0.02</td><td style='border: 1px solid black;'>2.0</td><td style='border: 1px solid black;'>0.04</td></tr></table>"
      ],
      "text/plain": [
       "<IPython.core.display.HTML object>"
      ]
     },
     "metadata": {},
     "output_type": "display_data"
    },
    {
     "data": {
      "text/html": [
       "<h3>DatasetProxy</h3><h6 style='font-weight: normal; color: grey'>1D Variables</h6><table style='border-collapse: collapse;'><tr><th style='text-align: center;border: 1px solid black;background-color: #ADF3E0;' colspan='1'>Coord: Row</th><th style='text-align: center;border: 1px solid black;' colspan='2'>alice [m^2]</th><th style='text-align: center;border: 1px solid black;' colspan='2'>bob [m^2]</th></tr><tr><th style='border: 1px solid black;background-color: #B9FFEC;'>Values</th><th style='border: 1px solid black;'>Values</th><th style='border: 1px solid black;'>Variances</th><th style='border: 1px solid black;'>Values</th><th style='border: 1px solid black;'>Variances</th></tr><tr><td style='border: 1px solid black;background-color: #ADF3E0;'>0</td><td style='border: 1px solid black;'>1.0</td><td style='border: 1px solid black;'>0.02</td><td style='border: 1px solid black;'>2.0</td><td style='border: 1px solid black;'>0.04</td></tr></table>"
      ],
      "text/plain": [
       "<IPython.core.display.HTML object>"
      ]
     },
     "metadata": {},
     "output_type": "display_data"
    },
    {
     "data": {
      "text/html": [
       "<h3>DatasetProxy</h3><h6 style='font-weight: normal; color: grey'>1D Variables</h6><table style='border-collapse: collapse;'><tr><th style='text-align: center;border: 1px solid black;background-color: #ADF3E0;' colspan='1'>Coord: Row</th><th style='text-align: center;border: 1px solid black;' colspan='2'>alice [m^2]</th><th style='text-align: center;border: 1px solid black;' colspan='2'>bob [m^2]</th></tr><tr><th style='border: 1px solid black;background-color: #B9FFEC;'>Values</th><th style='border: 1px solid black;'>Values</th><th style='border: 1px solid black;'>Variances</th><th style='border: 1px solid black;'>Values</th><th style='border: 1px solid black;'>Variances</th></tr><tr><td style='border: 1px solid black;background-color: #ADF3E0;'>1</td><td style='border: 1px solid black;'>2.650</td><td style='border: 1px solid black;'>0.082</td><td style='border: 1px solid black;'>5.300</td><td style='border: 1px solid black;'>0.164</td></tr><tr><td style='border: 1px solid black;background-color: #B9FFEC;'>2</td><td style='border: 1px solid black;'>1.44</td><td style='border: 1px solid black;'>0.058</td><td style='border: 1px solid black;'>2.88</td><td style='border: 1px solid black;'>0.115</td></tr></table>"
      ],
      "text/plain": [
       "<IPython.core.display.HTML object>"
      ]
     },
     "metadata": {},
     "output_type": "display_data"
    },
    {
     "data": {
      "text/html": [
       "<h3>VariableProxy</h3><table style='border-collapse: collapse;'><tr><th style='text-align: center;border: 1px solid black;' colspan='2'>alice [m^2]</th></tr><tr><th style='border: 1px solid black;'>Values</th><th style='border: 1px solid black;'>Variances</th></tr><tr><td style='border: 1px solid black;'>1.0</td><td style='border: 1px solid black;'>0.02</td></tr><tr><td style='border: 1px solid black;'>2.650</td><td style='border: 1px solid black;'>0.082</td></tr><tr><td style='border: 1px solid black;'>1.44</td><td style='border: 1px solid black;'>0.058</td></tr></table>"
      ],
      "text/plain": [
       "<IPython.core.display.HTML object>"
      ]
     },
     "metadata": {},
     "output_type": "display_data"
    },
    {
     "data": {
      "text/html": [
       "<h3>DataProxy</h3><table style='border-collapse: collapse;'><tr><th style='text-align: center;border: 1px solid black;background-color: #ADF3E0;' colspan='1'>Coord: Row</th><th style='text-align: center;border: 1px solid black;' colspan='2'>alice [m^2]</th></tr><tr><th style='border: 1px solid black;background-color: #B9FFEC;'>Values</th><th style='border: 1px solid black;'>Values</th><th style='border: 1px solid black;'>Variances</th></tr><tr><td style='border: 1px solid black;background-color: #ADF3E0;'>0</td><td style='border: 1px solid black;'>1.0</td><td style='border: 1px solid black;'>0.02</td></tr><tr><td style='border: 1px solid black;background-color: #B9FFEC;'>1</td><td style='border: 1px solid black;'>2.650</td><td style='border: 1px solid black;'>0.082</td></tr><tr><td style='border: 1px solid black;background-color: #ADF3E0;'>2</td><td style='border: 1px solid black;'>1.44</td><td style='border: 1px solid black;'>0.058</td></tr></table>"
      ],
      "text/plain": [
       "<IPython.core.display.HTML object>"
      ]
     },
     "metadata": {},
     "output_type": "display_data"
    }
   ],
   "source": [
    "# Single row (dropping corresponding coordinates)\n",
    "sc.table(d[sc.Dim.Row, 0])\n",
    "# Size-1 row range (keeping corresponding coordinates)\n",
    "sc.table(d[sc.Dim.Row, 0:1])\n",
    "# Range of rows\n",
    "sc.table(d[sc.Dim.Row, 1:3])\n",
    "# Single variable\n",
    "sc.table(d[\"alice\"].data)\n",
    "# Subset of variables with given name, keeping coordinates\n",
    "sc.table(d[\"alice\"])\n",
    "# Subset containing a single (data) variable, in addition to coordinates\n",
    "# ds.table(d.subset[Data.Value, 'alice'])"
   ]
  },
  {
   "cell_type": "markdown",
   "metadata": {
    "solution2": "hidden",
    "solution2_first": true
   },
   "source": [
    "### Exercise 1\n",
    "1. Combining row slicing and \"column\" slicing, add the last row of the data for Alice to the first row of data for Bob.\n",
    "2. Using the slice-range notation `a:b`, try adding the last two rows to the first two rows. Why does this fail?"
   ]
  },
  {
   "cell_type": "code",
   "execution_count": 18,
   "metadata": {
    "solution2": "hidden"
   },
   "outputs": [
    {
     "data": {
      "text/html": [
       "<h3>Dataset</h3><h6 style='font-weight: normal; color: grey'>1D Variables</h6><table style='border-collapse: collapse;'><tr><th style='text-align: center;border: 1px solid black;background-color: #ADF3E0;' colspan='1'>Coord: Row</th><th style='text-align: center;border: 1px solid black;' colspan='2'>alice [m^2]</th><th style='text-align: center;border: 1px solid black;' colspan='2'>bob [m^2]</th></tr><tr><th style='border: 1px solid black;background-color: #B9FFEC;'>Values</th><th style='border: 1px solid black;'>Values</th><th style='border: 1px solid black;'>Variances</th><th style='border: 1px solid black;'>Values</th><th style='border: 1px solid black;'>Variances</th></tr><tr><td style='border: 1px solid black;background-color: #ADF3E0;'>0</td><td style='border: 1px solid black;'>1.0</td><td style='border: 1px solid black;'>0.02</td><td style='border: 1px solid black;'>3.44</td><td style='border: 1px solid black;'>0.098</td></tr><tr><td style='border: 1px solid black;background-color: #B9FFEC;'>1</td><td style='border: 1px solid black;'>2.650</td><td style='border: 1px solid black;'>0.082</td><td style='border: 1px solid black;'>5.300</td><td style='border: 1px solid black;'>0.164</td></tr><tr><td style='border: 1px solid black;background-color: #ADF3E0;'>2</td><td style='border: 1px solid black;'>1.44</td><td style='border: 1px solid black;'>0.058</td><td style='border: 1px solid black;'>2.88</td><td style='border: 1px solid black;'>0.115</td></tr></table>"
      ],
      "text/plain": [
       "<IPython.core.display.HTML object>"
      ]
     },
     "metadata": {},
     "output_type": "display_data"
    }
   ],
   "source": [
    "d[\"bob\"][sc.Dim.Row, 0] += d[\"alice\"][sc.Dim.Row, -1]\n",
    "sc.table(d)"
   ]
  },
  {
   "cell_type": "markdown",
   "metadata": {
    "solution2": "hidden"
   },
   "source": [
    "If a range is given when slicing, the corresponding coordinate is preserved, and operations between misaligned data is prevented."
   ]
  },
  {
   "cell_type": "code",
   "execution_count": 19,
   "metadata": {
    "solution2": "hidden"
   },
   "outputs": [
    {
     "name": "stdout",
     "output_type": "stream",
     "text": [
      "Failed as expected!\n"
     ]
    }
   ],
   "source": [
    "try:\n",
    "    d[\"bob\"][sc.Dim.Row, 0:2] += d[\"alice\"][sc.Dim.Row, 1:3]\n",
    "except RuntimeError:\n",
    "    print(\"Failed as expected!\")"
   ]
  },
  {
   "cell_type": "markdown",
   "metadata": {
    "solution2": "hidden"
   },
   "source": [
    "We can operate with individual variables to circumvent the safety catch:"
   ]
  },
  {
   "cell_type": "code",
   "execution_count": 20,
   "metadata": {
    "solution2": "hidden"
   },
   "outputs": [
    {
     "data": {
      "text/html": [
       "<h3>Dataset</h3><h6 style='font-weight: normal; color: grey'>1D Variables</h6><table style='border-collapse: collapse;'><tr><th style='text-align: center;border: 1px solid black;background-color: #ADF3E0;' colspan='1'>Coord: Row</th><th style='text-align: center;border: 1px solid black;' colspan='2'>alice [m^2]</th><th style='text-align: center;border: 1px solid black;' colspan='2'>bob [m^2]</th></tr><tr><th style='border: 1px solid black;background-color: #B9FFEC;'>Values</th><th style='border: 1px solid black;'>Values</th><th style='border: 1px solid black;'>Variances</th><th style='border: 1px solid black;'>Values</th><th style='border: 1px solid black;'>Variances</th></tr><tr><td style='border: 1px solid black;background-color: #ADF3E0;'>0</td><td style='border: 1px solid black;'>1.0</td><td style='border: 1px solid black;'>0.02</td><td style='border: 1px solid black;'>6.09</td><td style='border: 1px solid black;'>0.098</td></tr><tr><td style='border: 1px solid black;background-color: #B9FFEC;'>1</td><td style='border: 1px solid black;'>2.650</td><td style='border: 1px solid black;'>0.082</td><td style='border: 1px solid black;'>6.74</td><td style='border: 1px solid black;'>0.164</td></tr><tr><td style='border: 1px solid black;background-color: #ADF3E0;'>2</td><td style='border: 1px solid black;'>1.44</td><td style='border: 1px solid black;'>0.058</td><td style='border: 1px solid black;'>2.88</td><td style='border: 1px solid black;'>0.115</td></tr></table>"
      ],
      "text/plain": [
       "<IPython.core.display.HTML object>"
      ]
     },
     "metadata": {},
     "output_type": "display_data"
    }
   ],
   "source": [
    "d[\"bob\"][sc.Dim.Row, 0:2].values += d[\"alice\"][sc.Dim.Row, 1:3].values\n",
    "sc.table(d)"
   ]
  },
  {
   "cell_type": "markdown",
   "metadata": {
    "solution2": "hidden"
   },
   "source": [
    "but note that the propagation of errors is then not taken into account by the operation as we are simply adding two `numpy` arrays together.\n",
    "\n",
    "We can also imagine ways to explicitly drop coordinates from a subset, e.g., `d['bob'].drop_coords()`, to allow for direct operation with subset. This is currently not supported."
   ]
  },
  {
   "cell_type": "markdown",
   "metadata": {},
   "source": [
    "The slicing notation for variables (columns) and rows does not return a copy, but a view object.\n",
    "This is very similar to how `numpy` operates:"
   ]
  },
  {
   "cell_type": "code",
   "execution_count": 21,
   "metadata": {},
   "outputs": [
    {
     "data": {
      "text/plain": [
       "array([100, 101, 102,   3,   4,   5,   6,   7])"
      ]
     },
     "execution_count": 21,
     "metadata": {},
     "output_type": "execute_result"
    }
   ],
   "source": [
    "a_slice = a[0:3]\n",
    "a_slice += 100\n",
    "a"
   ]
  },
  {
   "cell_type": "markdown",
   "metadata": {
    "solution2": "hidden",
    "solution2_first": true
   },
   "source": [
    "### Exercise 2\n",
    "\n",
    "Using the slicing notation, create a new table (or replace the existing dataset `d`) by one that does not contain the first and last row of `d`."
   ]
  },
  {
   "cell_type": "code",
   "execution_count": 23,
   "metadata": {
    "code_folding": [],
    "scrolled": true,
    "solution2": "hidden"
   },
   "outputs": [
    {
     "data": {
      "text/html": [
       "<h3>Dataset</h3><h6 style='font-weight: normal; color: grey'>1D Variables</h6><table style='border-collapse: collapse;'><tr><th style='text-align: center;border: 1px solid black;background-color: #ADF3E0;' colspan='1'>Coord: Row</th><th style='text-align: center;border: 1px solid black;' colspan='2'>alice [m^2]</th><th style='text-align: center;border: 1px solid black;' colspan='2'>bob [m^2]</th></tr><tr><th style='border: 1px solid black;background-color: #B9FFEC;'>Values</th><th style='border: 1px solid black;'>Values</th><th style='border: 1px solid black;'>Variances</th><th style='border: 1px solid black;'>Values</th><th style='border: 1px solid black;'>Variances</th></tr><tr><td style='border: 1px solid black;background-color: #ADF3E0;'>1</td><td style='border: 1px solid black;'>2.650</td><td style='border: 1px solid black;'>0.082</td><td style='border: 1px solid black;'>6.74</td><td style='border: 1px solid black;'>0.164</td></tr></table>"
      ],
      "text/plain": [
       "<IPython.core.display.HTML object>"
      ]
     },
     "metadata": {},
     "output_type": "display_data"
    }
   ],
   "source": [
    "d2 = d[sc.Dim.Row, 1:-1].copy()\n",
    "\n",
    "# Or:\n",
    "# from copy import copy\n",
    "# table = copy(d[Dim.Row, 1:-1])\n",
    "\n",
    "sc.table(d2)"
   ]
  },
  {
   "cell_type": "markdown",
   "metadata": {},
   "source": [
    "## More advanced operations with tables\n",
    "In addition to binary operators, basic functions like `concatenate`, `sort`, and `merge` are available."
   ]
  },
  {
   "cell_type": "code",
   "execution_count": 24,
   "metadata": {},
   "outputs": [
    {
     "ename": "TypeError",
     "evalue": "concatenate(): incompatible function arguments. The following argument types are supported:\n    1. (arg0: scipp._scipp.Variable, arg1: scipp._scipp.Variable, arg2: scipp._scipp.Dim) -> scipp._scipp.Variable\n\nInvoked with: <scipp.DatasetProxy>\nDimensions: {{Dim.Row, 3}}\nCoordinates:\n    Dim.Row                   int64     [dimensionless]  (Dim.Row)  [0, 1, 2]\nLabels:\nData:\n    alice                     double    [m^2]            (Dim.Row)  [1.000000, 2.650000, 1.440000]  [0.020000, 0.081800, 0.057600]\n    bob                       double    [m^2]            (Dim.Row)  [6.090000, 6.740000, 2.880000]  [0.097600, 0.163600, 0.115200]\nAttributes:\n\n, <scipp.DatasetProxy>\nDimensions: {{Dim.Row, 2}}\nCoordinates:\n    Dim.Row                   int64     [dimensionless]  (Dim.Row)  [1, 2]\nLabels:\nData:\n    alice                     double    [m^2]            (Dim.Row)  [2.650000, 1.440000]  [0.081800, 0.057600]\n    bob                       double    [m^2]            (Dim.Row)  [6.740000, 2.880000]  [0.163600, 0.115200]\nAttributes:\n\n, Dim.Row",
     "output_type": "error",
     "traceback": [
      "\u001b[0;31m---------------------------------------------------------------------------\u001b[0m",
      "\u001b[0;31mTypeError\u001b[0m                                 Traceback (most recent call last)",
      "\u001b[0;32m<ipython-input-24-152fdf6df1be>\u001b[0m in \u001b[0;36m<module>\u001b[0;34m\u001b[0m\n\u001b[0;32m----> 1\u001b[0;31m \u001b[0md\u001b[0m \u001b[0;34m=\u001b[0m \u001b[0msc\u001b[0m\u001b[0;34m.\u001b[0m\u001b[0mconcatenate\u001b[0m\u001b[0;34m(\u001b[0m\u001b[0md\u001b[0m\u001b[0;34m[\u001b[0m\u001b[0msc\u001b[0m\u001b[0;34m.\u001b[0m\u001b[0mDim\u001b[0m\u001b[0;34m.\u001b[0m\u001b[0mRow\u001b[0m\u001b[0;34m,\u001b[0m \u001b[0;36m0\u001b[0m\u001b[0;34m:\u001b[0m\u001b[0;36m3\u001b[0m\u001b[0;34m]\u001b[0m\u001b[0;34m,\u001b[0m \u001b[0md\u001b[0m\u001b[0;34m[\u001b[0m\u001b[0msc\u001b[0m\u001b[0;34m.\u001b[0m\u001b[0mDim\u001b[0m\u001b[0;34m.\u001b[0m\u001b[0mRow\u001b[0m\u001b[0;34m,\u001b[0m \u001b[0;36m1\u001b[0m\u001b[0;34m:\u001b[0m\u001b[0;36m3\u001b[0m\u001b[0;34m]\u001b[0m\u001b[0;34m,\u001b[0m \u001b[0msc\u001b[0m\u001b[0;34m.\u001b[0m\u001b[0mDim\u001b[0m\u001b[0;34m.\u001b[0m\u001b[0mRow\u001b[0m\u001b[0;34m)\u001b[0m\u001b[0;34m\u001b[0m\u001b[0;34m\u001b[0m\u001b[0m\n\u001b[0m\u001b[1;32m      2\u001b[0m \u001b[0md\u001b[0m \u001b[0;34m=\u001b[0m \u001b[0msc\u001b[0m\u001b[0;34m.\u001b[0m\u001b[0msort\u001b[0m\u001b[0;34m(\u001b[0m\u001b[0md\u001b[0m\u001b[0;34m,\u001b[0m \u001b[0msc\u001b[0m\u001b[0;34m.\u001b[0m\u001b[0mDim\u001b[0m\u001b[0;34m.\u001b[0m\u001b[0mRow\u001b[0m\u001b[0;34m)\u001b[0m\u001b[0;34m\u001b[0m\u001b[0;34m\u001b[0m\u001b[0m\n\u001b[1;32m      3\u001b[0m \u001b[0meve\u001b[0m \u001b[0;34m=\u001b[0m \u001b[0msc\u001b[0m\u001b[0;34m.\u001b[0m\u001b[0mDataset\u001b[0m\u001b[0;34m(\u001b[0m\u001b[0;34m)\u001b[0m\u001b[0;34m\u001b[0m\u001b[0;34m\u001b[0m\u001b[0m\n\u001b[1;32m      4\u001b[0m \u001b[0meve\u001b[0m\u001b[0;34m[\u001b[0m\u001b[0;34m\"eve\"\u001b[0m\u001b[0;34m]\u001b[0m \u001b[0;34m=\u001b[0m \u001b[0msc\u001b[0m\u001b[0;34m.\u001b[0m\u001b[0mVariable\u001b[0m\u001b[0;34m(\u001b[0m\u001b[0;34m[\u001b[0m\u001b[0msc\u001b[0m\u001b[0;34m.\u001b[0m\u001b[0mDim\u001b[0m\u001b[0;34m.\u001b[0m\u001b[0mRow\u001b[0m\u001b[0;34m]\u001b[0m\u001b[0;34m,\u001b[0m \u001b[0mvalues\u001b[0m\u001b[0;34m=\u001b[0m\u001b[0mnp\u001b[0m\u001b[0;34m.\u001b[0m\u001b[0marange\u001b[0m\u001b[0;34m(\u001b[0m\u001b[0;36m5\u001b[0m\u001b[0;34m)\u001b[0m\u001b[0;34m.\u001b[0m\u001b[0mastype\u001b[0m\u001b[0;34m(\u001b[0m\u001b[0mnp\u001b[0m\u001b[0;34m.\u001b[0m\u001b[0mfloat64\u001b[0m\u001b[0;34m)\u001b[0m\u001b[0;34m)\u001b[0m\u001b[0;34m\u001b[0m\u001b[0;34m\u001b[0m\u001b[0m\n\u001b[1;32m      5\u001b[0m \u001b[0md\u001b[0m\u001b[0;34m.\u001b[0m\u001b[0mmerge\u001b[0m\u001b[0;34m(\u001b[0m\u001b[0meve\u001b[0m\u001b[0;34m)\u001b[0m\u001b[0;34m\u001b[0m\u001b[0;34m\u001b[0m\u001b[0m\n",
      "\u001b[0;31mTypeError\u001b[0m: concatenate(): incompatible function arguments. The following argument types are supported:\n    1. (arg0: scipp._scipp.Variable, arg1: scipp._scipp.Variable, arg2: scipp._scipp.Dim) -> scipp._scipp.Variable\n\nInvoked with: <scipp.DatasetProxy>\nDimensions: {{Dim.Row, 3}}\nCoordinates:\n    Dim.Row                   int64     [dimensionless]  (Dim.Row)  [0, 1, 2]\nLabels:\nData:\n    alice                     double    [m^2]            (Dim.Row)  [1.000000, 2.650000, 1.440000]  [0.020000, 0.081800, 0.057600]\n    bob                       double    [m^2]            (Dim.Row)  [6.090000, 6.740000, 2.880000]  [0.097600, 0.163600, 0.115200]\nAttributes:\n\n, <scipp.DatasetProxy>\nDimensions: {{Dim.Row, 2}}\nCoordinates:\n    Dim.Row                   int64     [dimensionless]  (Dim.Row)  [1, 2]\nLabels:\nData:\n    alice                     double    [m^2]            (Dim.Row)  [2.650000, 1.440000]  [0.081800, 0.057600]\n    bob                       double    [m^2]            (Dim.Row)  [6.740000, 2.880000]  [0.163600, 0.115200]\nAttributes:\n\n, Dim.Row"
     ]
    }
   ],
   "source": [
    "d = sc.concatenate(d[sc.Dim.Row, 0:3], d[sc.Dim.Row, 1:3], sc.Dim.Row)\n",
    "d = sc.sort(d, sc.Dim.Row)\n",
    "eve = sc.Dataset()\n",
    "eve[\"eve\"] = sc.Variable([sc.Dim.Row], values=np.arange(5).astype(np.float64))\n",
    "d.merge(eve)\n",
    "sc.table(d)"
   ]
  },
  {
   "cell_type": "markdown",
   "metadata": {
    "solution2": "hidden",
    "solution2_first": true
   },
   "source": [
    "### Exercise 3\n",
    "Add the sum of the data for `alice` and `bob` as a new variable (column) to the dataset."
   ]
  },
  {
   "cell_type": "code",
   "execution_count": null,
   "metadata": {
    "scrolled": false,
    "solution2": "hidden"
   },
   "outputs": [],
   "source": [
    "d.subset['sum'] = d.subset['alice'] + d.subset['bob']\n",
    "ds.table(d)"
   ]
  },
  {
   "cell_type": "markdown",
   "metadata": {},
   "source": [
    "### Interaction with `numpy` and scalars\n",
    "Variable in a dataset are exposed in a `numpy`-compatible buffer format, so we can directly hand them to `numpy` functions."
   ]
  },
  {
   "cell_type": "code",
   "execution_count": null,
   "metadata": {
    "scrolled": true
   },
   "outputs": [],
   "source": [
    "d[Data.Value, 'eve'] = np.exp(d[Data.Value, 'eve'])\n",
    "ds.table(d)"
   ]
  },
  {
   "cell_type": "markdown",
   "metadata": {},
   "source": [
    "Direct access to the `numpy`-like underlying data array is possible using the `numpy` property:"
   ]
  },
  {
   "cell_type": "code",
   "execution_count": null,
   "metadata": {
    "scrolled": true
   },
   "outputs": [],
   "source": [
    "d[Data.Value, 'eve'].numpy"
   ]
  },
  {
   "cell_type": "markdown",
   "metadata": {
    "solution2": "hidden",
    "solution2_first": true
   },
   "source": [
    "### Exercise 4\n",
    "1. As above for `np.exp` applied to the data for Eve, apply a `numpy` function to the data for Alice.\n",
    "2. What happens to the unit and uncertanties when modifying data with external code such as `numpy`?"
   ]
  },
  {
   "cell_type": "code",
   "execution_count": null,
   "metadata": {
    "scrolled": true,
    "solution2": "hidden"
   },
   "outputs": [],
   "source": [
    "d[Data.Value, 'alice'] = np.sin(d[Data.Value, 'alice'])\n",
    "ds.table(d)"
   ]
  },
  {
   "cell_type": "markdown",
   "metadata": {
    "solution2": "hidden"
   },
   "source": [
    "Numpy operations are not aware of the unit and uncertainties. Therefore the result is garbage, unless the user has ensured herself that units and uncertainties are handled manually.\n",
    "\n",
    "Corollary: Whenever available, built-in operators and functions should be preferred over the use of `numpy`."
   ]
  },
  {
   "cell_type": "markdown",
   "metadata": {
    "solution2": "hidden",
    "solution2_first": true
   },
   "source": [
    "### Exercise 5\n",
    "1. Try adding a scalar value such as `1.5` to the data for Eve.\n",
    "2. Try the same for Alice or Bob. Why is it not working?"
   ]
  },
  {
   "cell_type": "code",
   "execution_count": null,
   "metadata": {
    "scrolled": false,
    "solution2": "hidden"
   },
   "outputs": [],
   "source": [
    "d.subset['eve'] += 1.5\n",
    "ds.table(d)"
   ]
  },
  {
   "cell_type": "markdown",
   "metadata": {
    "solution2": "hidden"
   },
   "source": [
    "The data for Alice has a unit, so a direct addition with a dimensionless quantity fails:"
   ]
  },
  {
   "cell_type": "code",
   "execution_count": null,
   "metadata": {
    "code_folding": [],
    "scrolled": true,
    "solution2": "hidden"
   },
   "outputs": [],
   "source": [
    "try:\n",
    "    d.subset['alice'] += 1.5\n",
    "except RuntimeError:\n",
    "    print(\"Failed as expected!\")"
   ]
  },
  {
   "cell_type": "markdown",
   "metadata": {
    "solution2": "hidden"
   },
   "source": [
    "We can use `Variable` to provide scalar quantity with attached unit:"
   ]
  },
  {
   "cell_type": "code",
   "execution_count": null,
   "metadata": {
    "solution2": "hidden"
   },
   "outputs": [],
   "source": [
    "d.subset['alice'] += ds.Variable(1.5, unit=ds.units.m*ds.units.m)\n",
    "ds.table(d)"
   ]
  },
  {
   "cell_type": "markdown",
   "metadata": {},
   "source": [
    "Continue to [Dataset in a Nutshell - Part 2](demo-part2.ipynb) to see how datasets are used with multi-dimensional data."
   ]
  }
 ],
 "metadata": {
  "kernelspec": {
   "display_name": "Python 3",
   "language": "python",
   "name": "python3"
  },
  "language_info": {
   "codemirror_mode": {
    "name": "ipython",
    "version": 3
   },
   "file_extension": ".py",
   "mimetype": "text/x-python",
   "name": "python",
   "nbconvert_exporter": "python",
   "pygments_lexer": "ipython3",
   "version": "3.7.3"
  }
 },
 "nbformat": 4,
 "nbformat_minor": 2
}

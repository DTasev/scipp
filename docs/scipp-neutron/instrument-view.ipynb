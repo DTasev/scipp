{
 "cells": [
  {
   "cell_type": "markdown",
   "metadata": {},
   "source": [
    "# Instrument view\n",
    "\n",
    "A simple version of the Mantid [instrument view](https://www.mantidproject.org/MantidPlot:_Instrument_View) is available in `scipp`. It currently does not reproduce the size and shape of the detector pixels very well, only their positions are properly handled. However, basic functionalities such as different 2D and 3D projections, as well as navigation through the time-of-flight dimension via a slider, are provided.\n",
    "\n",
    "The instrument view is part of the `scipp.neutron` module, and it is launched as follows:"
   ]
  },
  {
   "cell_type": "code",
   "execution_count": null,
   "metadata": {},
   "outputs": [],
   "source": [
    "import sys\n",
    "sys.path.append('/home/nvaytet/work/code/scipp/py36')\n",
    "import numpy as np\n",
    "import scipp.neutron as sn"
   ]
  },
  {
   "cell_type": "code",
   "execution_count": null,
   "metadata": {},
   "outputs": [],
   "source": [
    "sample = sn.load(filename='PG3_4844_event.nxs', mantid_args={'BankName': 'bank184'})"
   ]
  },
  {
   "cell_type": "code",
   "execution_count": null,
   "metadata": {},
   "outputs": [],
   "source": [
    "sn.instrument_view(sample)"
   ]
  },
  {
   "cell_type": "markdown",
   "metadata": {},
   "source": [
    "![ ](../images/neutron/instrument_view_3d.png)"
   ]
  },
  {
   "cell_type": "markdown",
   "metadata": {},
   "source": [
    "By default, the 3D view is rendered. Switching to a cylindrical or spherical view is achieved easily by using the buttons below the figure.\n",
    "\n",
    "**Note:** the first time a 2D view is selected, it can take some time before the figure appears. This is because all the polygons are being created for the detector pixels. After that, switching back and forth between cylindrical, spherical and also 3D views should be fast.\n",
    "\n",
    "The projection can also be selected on creation using the `projection` keyword argument:"
   ]
  },
  {
   "cell_type": "code",
   "execution_count": null,
   "metadata": {},
   "outputs": [],
   "source": [
    "sn.instrument_view(sample, projection=\"Cylindrical Y\")"
   ]
  },
  {
   "cell_type": "code",
   "execution_count": null,
   "metadata": {},
   "outputs": [],
   "source": []
  }
 ],
 "metadata": {
  "kernelspec": {
   "display_name": "Python 3",
   "language": "python",
   "name": "python3"
  },
  "language_info": {
   "codemirror_mode": {
    "name": "ipython",
    "version": 3
   },
   "file_extension": ".py",
   "mimetype": "text/x-python",
   "name": "python",
   "nbconvert_exporter": "python",
   "pygments_lexer": "ipython3",
   "version": "3.6.7"
  }
 },
 "nbformat": 4,
 "nbformat_minor": 2
}

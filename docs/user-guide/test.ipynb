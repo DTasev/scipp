{
 "cells": [
  {
   "cell_type": "code",
   "execution_count": null,
   "metadata": {},
   "outputs": [],
   "source": [
    "import numpy as np\n",
    "import scipp as sc\n",
    "from scipp import Dim\n",
    "var = sc.Variable(dims=[Dim.X, Dim.Y, Dim.Z], shape=[4,3, 5])\n",
    "sc.show(var)"
   ]
  },
  {
   "cell_type": "code",
   "execution_count": null,
   "metadata": {},
   "outputs": [],
   "source": [
    "var = sc.Variable(dims=[Dim.X, Dim.Y, Dim.Z], shape=[4,3, 5], variances=True)\n",
    "sc.show(var)"
   ]
  },
  {
   "cell_type": "code",
   "execution_count": null,
   "metadata": {},
   "outputs": [],
   "source": [
    "d = sc.Dataset( {'a': sc.Variable(dims=[Dim.X, Dim.Y], values=np.random.rand(2, 3)), 'b': sc.Variable(1.0)}, coords={ Dim.X: sc.Variable([Dim.X], values=np.arange(2.0), unit=sc.units.m), Dim.Y: sc.Variable([Dim.Y], values=np.arange(3.0), unit=sc.units.m)}, labels={'aux': sc.Variable([Dim.Y], values=np.random.rand(3))}) \n",
    "sc.show(d)"
   ]
  }
 ],
 "metadata": {
  "kernelspec": {
   "display_name": "Python 3",
   "language": "python",
   "name": "python3"
  },
  "language_info": {
   "codemirror_mode": {
    "name": "ipython",
    "version": 3
   },
   "file_extension": ".py",
   "mimetype": "text/x-python",
   "name": "python",
   "nbconvert_exporter": "python",
   "pygments_lexer": "ipython3",
   "version": "3.6.8"
  }
 },
 "nbformat": 4,
 "nbformat_minor": 2
}
